{
 "cells": [
  {
   "cell_type": "markdown",
   "metadata": {},
   "source": [
    "# Topic Modeling\n",
    "\n",
    "\n",
    "## Table of contents\n",
    "\n",
    "- [Introduction](#Introduction)\n",
    "\n",
    "- [Libraries](#Libraries)\n",
    "\n",
    "- [The Problem Domain](#The-Problem-Domain)"
   ]
  },
  {
   "cell_type": "code",
   "execution_count": 11,
   "metadata": {},
   "outputs": [],
   "source": [
    "import pandas as pd\n",
    "pd.set_option('display.max_columns', None)\n",
    "pd.set_option('display.max_rows', None)"
   ]
  },
  {
   "cell_type": "markdown",
   "metadata": {},
   "source": [
    "<a id = 'Introduction'></a>\n",
    "## Introduction\n",
    "\n",
    "\n",
    "In this notebook, I will use Python and its libraries for **topic modeling**. In topic modeling, statistical models are used to identify topics or categories in a document or a set of documents. I will use one specific method called **Latent Dirichlet Allocation (LDA)**. This algorithm can be summarized as follows:\n",
    "- First we select (without previous knowledge about what the topics) - a fixed number $T$ of topics \n",
    "- We then randomly assign each word to a topic\n",
    "- For each document $d$, word $w$ and topic $t$, the probability $P(t\\,|\\,w,d)$ that the word $w$ of document $d$ corresponds to topic $t$ is calculated\n",
    "- We then reassign each word $w$ to some topic based on $P(t\\,|\\,w,d)$ and repeat the process until we find the optimal assignment of words to topics"
   ]
  },
  {
   "cell_type": "markdown",
   "metadata": {},
   "source": [
    "<a id = 'Libraries'></a>\n",
    "## Libraries  \n",
    "\n",
    "\n",
    "This notebook uses the following packages:\n",
    "\n",
    "- `spacy`\n",
    "- `nltk`\n",
    "- `random`\n",
    "- `gensim`\n",
    "- `pickle`\n",
    "- `pandas`\n",
    "- `sklearn`"
   ]
  },
  {
   "cell_type": "markdown",
   "metadata": {},
   "source": [
    "<a id ='The-Problem-Domain'></a>\n",
    "## The Problem Domain\n",
    "\n",
    "\n",
    "In this project I apply LDA to a collection of [Sherlock Holmes](https://en.wikipedia.org/wiki/Sherlock_Holmes) short stories obtained from the [Gutenberg project](https://github.com/ropenscilabs/gutenbergr)."
   ]
  },
  {
   "cell_type": "markdown",
   "metadata": {},
   "source": [
    "<a id ='Importing-the-documents'></a>\n",
    "## Importing the documents\n"
   ]
  },
  {
   "cell_type": "code",
   "execution_count": 40,
   "metadata": {
    "scrolled": false
   },
   "outputs": [
    {
     "data": {
      "text/html": [
       "<div>\n",
       "<style scoped>\n",
       "    .dataframe tbody tr th:only-of-type {\n",
       "        vertical-align: middle;\n",
       "    }\n",
       "\n",
       "    .dataframe tbody tr th {\n",
       "        vertical-align: top;\n",
       "    }\n",
       "\n",
       "    .dataframe thead th {\n",
       "        text-align: right;\n",
       "    }\n",
       "</style>\n",
       "<table border=\"1\" class=\"dataframe\">\n",
       "  <thead>\n",
       "    <tr style=\"text-align: right;\">\n",
       "      <th></th>\n",
       "      <th>gutenberg_id</th>\n",
       "      <th>text</th>\n",
       "      <th>story</th>\n",
       "    </tr>\n",
       "  </thead>\n",
       "  <tbody>\n",
       "    <tr>\n",
       "      <th>1</th>\n",
       "      <td>1661</td>\n",
       "      <td>ADVENTURE I. A SCANDAL IN BOHEMIA</td>\n",
       "      <td>ADVENTURE I. A SCANDAL IN BOHEMIA</td>\n",
       "    </tr>\n",
       "    <tr>\n",
       "      <th>3</th>\n",
       "      <td>1661</td>\n",
       "      <td>I.</td>\n",
       "      <td>ADVENTURE I. A SCANDAL IN BOHEMIA</td>\n",
       "    </tr>\n",
       "    <tr>\n",
       "      <th>5</th>\n",
       "      <td>1661</td>\n",
       "      <td>To Sherlock Holmes she is always THE woman. I ...</td>\n",
       "      <td>ADVENTURE I. A SCANDAL IN BOHEMIA</td>\n",
       "    </tr>\n",
       "    <tr>\n",
       "      <th>6</th>\n",
       "      <td>1661</td>\n",
       "      <td>him mention her under any other name. In his e...</td>\n",
       "      <td>ADVENTURE I. A SCANDAL IN BOHEMIA</td>\n",
       "    </tr>\n",
       "    <tr>\n",
       "      <th>7</th>\n",
       "      <td>1661</td>\n",
       "      <td>and predominates the whole of her sex. It was ...</td>\n",
       "      <td>ADVENTURE I. A SCANDAL IN BOHEMIA</td>\n",
       "    </tr>\n",
       "  </tbody>\n",
       "</table>\n",
       "</div>"
      ],
      "text/plain": [
       "   gutenberg_id                                               text  \\\n",
       "1          1661                  ADVENTURE I. A SCANDAL IN BOHEMIA   \n",
       "3          1661                                                 I.   \n",
       "5          1661  To Sherlock Holmes she is always THE woman. I ...   \n",
       "6          1661  him mention her under any other name. In his e...   \n",
       "7          1661  and predominates the whole of her sex. It was ...   \n",
       "\n",
       "                               story  \n",
       "1  ADVENTURE I. A SCANDAL IN BOHEMIA  \n",
       "3  ADVENTURE I. A SCANDAL IN BOHEMIA  \n",
       "5  ADVENTURE I. A SCANDAL IN BOHEMIA  \n",
       "6  ADVENTURE I. A SCANDAL IN BOHEMIA  \n",
       "7  ADVENTURE I. A SCANDAL IN BOHEMIA  "
      ]
     },
     "execution_count": 40,
     "metadata": {},
     "output_type": "execute_result"
    }
   ],
   "source": [
    "df = pd.read_csv('sherlock.csv',index_col=0)\n",
    "df.dropna(inplace=True)\n",
    "df.head()"
   ]
  },
  {
   "cell_type": "markdown",
   "metadata": {},
   "source": [
    "Notice that in the **text** column, the first row of each story is the title of the story. We will remove those lines (and the id and story columns as well):"
   ]
  },
  {
   "cell_type": "code",
   "execution_count": 32,
   "metadata": {},
   "outputs": [],
   "source": [
    "# df['story'].unique().tolist()\n",
    "# len(df['story'].unique().tolist())\n",
    "# df[df['text']==df['story']].shape"
   ]
  },
  {
   "cell_type": "code",
   "execution_count": 41,
   "metadata": {},
   "outputs": [
    {
     "data": {
      "text/html": [
       "<div>\n",
       "<style scoped>\n",
       "    .dataframe tbody tr th:only-of-type {\n",
       "        vertical-align: middle;\n",
       "    }\n",
       "\n",
       "    .dataframe tbody tr th {\n",
       "        vertical-align: top;\n",
       "    }\n",
       "\n",
       "    .dataframe thead th {\n",
       "        text-align: right;\n",
       "    }\n",
       "</style>\n",
       "<table border=\"1\" class=\"dataframe\">\n",
       "  <thead>\n",
       "    <tr style=\"text-align: right;\">\n",
       "      <th></th>\n",
       "      <th>text</th>\n",
       "    </tr>\n",
       "  </thead>\n",
       "  <tbody>\n",
       "    <tr>\n",
       "      <th>0</th>\n",
       "      <td>I.</td>\n",
       "    </tr>\n",
       "    <tr>\n",
       "      <th>1</th>\n",
       "      <td>To Sherlock Holmes she is always THE woman. I ...</td>\n",
       "    </tr>\n",
       "    <tr>\n",
       "      <th>2</th>\n",
       "      <td>him mention her under any other name. In his e...</td>\n",
       "    </tr>\n",
       "    <tr>\n",
       "      <th>3</th>\n",
       "      <td>and predominates the whole of her sex. It was ...</td>\n",
       "    </tr>\n",
       "    <tr>\n",
       "      <th>4</th>\n",
       "      <td>any emotion akin to love for Irene Adler. All ...</td>\n",
       "    </tr>\n",
       "  </tbody>\n",
       "</table>\n",
       "</div>"
      ],
      "text/plain": [
       "                                                text\n",
       "0                                                 I.\n",
       "1  To Sherlock Holmes she is always THE woman. I ...\n",
       "2  him mention her under any other name. In his e...\n",
       "3  and predominates the whole of her sex. It was ...\n",
       "4  any emotion akin to love for Irene Adler. All ..."
      ]
     },
     "execution_count": 41,
     "metadata": {},
     "output_type": "execute_result"
    }
   ],
   "source": [
    "df = df[df['text'] != df['story']]\n",
    "df = df.drop(['gutenberg_id','story'],axis=1)\n",
    "df.reset_index(inplace=True, drop=True)\n",
    "df.head()"
   ]
  },
  {
   "cell_type": "markdown",
   "metadata": {},
   "source": [
    "<a id ='List-of-texts'></a>\n",
    "## List of texts\n",
    "\n",
    "\n",
    "From `df` I will build a list `doc_set` containing our texts:"
   ]
  },
  {
   "cell_type": "code",
   "execution_count": 63,
   "metadata": {
    "scrolled": true
   },
   "outputs": [
    {
     "name": "stdout",
     "output_type": "stream",
     "text": [
      "I.\n",
      "To Sherlock Holmes she is always THE woman. I have seldom heard\n",
      "him mention her under any other name. In his eyes she eclipses\n",
      "and predominates the whole of her sex. It was not that he felt\n",
      "any emotion akin to love for Irene Adler. All emotions, and that\n",
      "one particularly, were abhorrent to his cold, precise but\n",
      "admirably balanced mind. He was, I take it, the most perfect\n"
     ]
    }
   ],
   "source": [
    "doc_set = df.values.T.tolist()[0]\n",
    "for doc in doc_set[0:7]:\n",
    "    print(doc)"
   ]
  },
  {
   "cell_type": "markdown",
   "metadata": {},
   "source": [
    "<a id ='Cleaning-the-text'></a>\n",
    "## Cleaning the text\n",
    "\n",
    "\n",
    "Before applying natural language processing tools to our problem, I will provide a quick review of some basic procedures using Python. We first import `nltk` and the necessary classes for lemmatization and stemming:"
   ]
  },
  {
   "cell_type": "code",
   "execution_count": 64,
   "metadata": {},
   "outputs": [],
   "source": [
    "import nltk\n",
    "from nltk.stem import WordNetLemmatizer\n",
    "from nltk.stem.porter import PorterStemmer"
   ]
  },
  {
   "cell_type": "markdown",
   "metadata": {},
   "source": [
    "We then create objects of the classes `PorterStemmer` and `WordNetLemmatizer`:"
   ]
  },
  {
   "cell_type": "code",
   "execution_count": 65,
   "metadata": {},
   "outputs": [],
   "source": [
    "stemmer = PorterStemmer()\n",
    "lemmatizer = WordNetLemmatizer()"
   ]
  },
  {
   "cell_type": "markdown",
   "metadata": {},
   "source": [
    "To use lemmatization and/or stemming in a given string text we must first tokenize it. The code below matches word characters until it reaches a non-word character, like a space. "
   ]
  },
  {
   "cell_type": "code",
   "execution_count": 66,
   "metadata": {},
   "outputs": [],
   "source": [
    "from nltk.tokenize import RegexpTokenizer\n",
    "tokenizer = RegexpTokenizer(r'\\w+')"
   ]
  },
  {
   "cell_type": "markdown",
   "metadata": {},
   "source": [
    "### Build a list of lists of tokens "
   ]
  },
  {
   "cell_type": "code",
   "execution_count": 67,
   "metadata": {
    "scrolled": true
   },
   "outputs": [
    {
     "name": "stdout",
     "output_type": "stream",
     "text": [
      "[['i'], ['to', 'sherlock', 'holmes', 'she', 'is', 'always', 'the', 'woman', 'i', 'have', 'seldom', 'heard'], ['him', 'mention', 'her', 'under', 'any', 'other', 'name', 'in', 'his', 'eyes', 'she', 'eclipses']]\n"
     ]
    }
   ],
   "source": [
    "tokenined_docs = []\n",
    "for doc in doc_set:\n",
    "    tokens = tokenizer.tokenize(doc.lower())\n",
    "    tokenined_docs.append(tokens)\n",
    "    \n",
    "print(tokenined_docs[0:3])"
   ]
  },
  {
   "cell_type": "markdown",
   "metadata": {},
   "source": [
    "### Apply lemmatizing"
   ]
  },
  {
   "cell_type": "code",
   "execution_count": 68,
   "metadata": {},
   "outputs": [
    {
     "name": "stdout",
     "output_type": "stream",
     "text": [
      "[['i'], ['to', 'sherlock', 'holmes', 'she', 'is', 'always', 'the', 'woman', 'i', 'have', 'seldom', 'heard'], ['him', 'mention', 'her', 'under', 'any', 'other', 'name', 'in', 'his', 'eye', 'she', 'eclipse']]\n"
     ]
    }
   ],
   "source": [
    "lemmatized_tokens = []\n",
    "for lst in tokenined_docs:\n",
    "    tokens_lemma = [lemmatizer.lemmatize(i) for i in lst]\n",
    "    lemmatized_tokens.append(tokens_lemma)\n",
    "    \n",
    "print(lemmatized_tokens[0:3])"
   ]
  },
  {
   "cell_type": "markdown",
   "metadata": {},
   "source": [
    "### Dropping stopwords and words with less than $n$ letters"
   ]
  },
  {
   "cell_type": "code",
   "execution_count": 69,
   "metadata": {},
   "outputs": [],
   "source": [
    "from stop_words import get_stop_words\n",
    "en_stop_words = get_stop_words('en')"
   ]
  },
  {
   "cell_type": "code",
   "execution_count": 76,
   "metadata": {},
   "outputs": [
    {
     "name": "stdout",
     "output_type": "stream",
     "text": [
      "['a', 'about', 'above', 'after', 'again', 'against', 'all', 'am', 'an', 'and', 'any', 'are', \"aren't\", 'as', 'at', 'be', 'because', 'been', 'before', 'being', 'below', 'between', 'both', 'but', 'by', \"can't\", 'cannot', 'could', \"couldn't\", 'did', \"didn't\", 'do', 'does', \"doesn't\", 'doing', \"don't\", 'down', 'during', 'each', 'few', 'for', 'from', 'further', 'had', \"hadn't\", 'has', \"hasn't\", 'have', \"haven't\", 'having', 'he', \"he'd\", \"he'll\", \"he's\", 'her', 'here', \"here's\", 'hers', 'herself', 'him', 'himself', 'his', 'how', \"how's\", 'i', \"i'd\", \"i'll\", \"i'm\", \"i've\", 'if', 'in', 'into', 'is', \"isn't\", 'it', \"it's\", 'its', 'itself', \"let's\", 'me', 'more', 'most', \"mustn't\", 'my', 'myself', 'no', 'nor', 'not', 'of', 'off', 'on', 'once', 'only', 'or', 'other', 'ought', 'our', 'ours', 'ourselves', 'out', 'over', 'own', 'same', \"shan't\", 'she', \"she'd\", \"she'll\", \"she's\", 'should', \"shouldn't\", 'so', 'some', 'such', 'than', 'that', \"that's\", 'the', 'their', 'theirs', 'them', 'themselves', 'then', 'there', \"there's\", 'these', 'they', \"they'd\", \"they'll\", \"they're\", \"they've\", 'this', 'those', 'through', 'to', 'too', 'under', 'until', 'up', 'very', 'was', \"wasn't\", 'we', \"we'd\", \"we'll\", \"we're\", \"we've\", 'were', \"weren't\", 'what', \"what's\", 'when', \"when's\", 'where', \"where's\", 'which', 'while', 'who', \"who's\", 'whom', 'why', \"why's\", 'with', \"won't\", 'would', \"wouldn't\", 'you', \"you'd\", \"you'll\", \"you're\", \"you've\", 'your', 'yours', 'yourself', 'yourselves']\n"
     ]
    }
   ],
   "source": [
    "print(en_stop_words)"
   ]
  },
  {
   "cell_type": "code",
   "execution_count": 85,
   "metadata": {},
   "outputs": [
    {
     "data": {
      "text/plain": [
       "[['sherlock', 'holmes', 'always', 'woman', 'seldom', 'heard'],\n",
       " ['mention', 'eclipse'],\n",
       " ['predominates', 'whole'],\n",
       " ['emotion', 'irene', 'adler', 'emotion'],\n",
       " ['particularly', 'abhorrent', 'precise']]"
      ]
     },
     "execution_count": 85,
     "metadata": {},
     "output_type": "execute_result"
    }
   ],
   "source": [
    "n=4\n",
    "tokens = []\n",
    "for lst in lemmatized_tokens:\n",
    "    tokens.append([i for i in lst if not i in en_stop_words if len(i) > n])\n",
    "\n",
    "# dropping empty sublists\n",
    "tokens = [token for token in tokens if len(token)>0]\n",
    "tokens[0:5]"
   ]
  },
  {
   "cell_type": "markdown",
   "metadata": {},
   "source": [
    "<a id ='Document-term-matrix'></a>\n",
    "## Document-term matrix\n",
    "\n",
    "\n",
    "I will now generate an LDA model and for that, the frequency that each term occurs within each document needs to be understood.\n",
    "\n",
    "A **document-term matrix** is constructed to do that. It contains a corpus of $n$ documents and a vocabulary of $m$ words. Each cell $ij$ counts the frequency of the word $j$ in the document $i$.\n",
    "\n",
    "|               | word_1 | word_2 | ... | word_m |\n",
    "| ------------- |:------:| ----- :|----- :|----- :|\n",
    "| doc_1         | 1      | 3   | ... |2\n",
    "| doc_2         | 2      |   3   |...|3\n",
    "| ...           | ...    |    2   |...|1\n",
    "| doc_n         | 1      |    1   |...|1\n",
    "\n",
    "What LDA does is to convert this matrix into two matrices with lower dimensions namely:\n",
    "\n",
    "|               | topic_1 | topic_2 | ... | topic_T |\n",
    "| ------------- |:------:| ----- :|----- :|----- :|\n",
    "| doc_1         | 0      | 1   | ... |1\n",
    "| doc_2         | 0      |   1   |...|1\n",
    "| ...           | ...    |    ...   |...|1\n",
    "| doc_n         | 1      |    0   |...|0\n",
    "\n",
    "and\n",
    "\n",
    "|               | word_1 | word_2 | ... | word_m |\n",
    "| ------------- |:------:| ----- :|----- :|----- :|\n",
    "| topic_1         | 1      | 0   | ... |1\n",
    "| topic_2         | 1      |   0   |...|1\n",
    "| ...           | ...    |    ...   |...|1\n",
    "| topic_T         | 1      |    1   |...|1\n",
    "\n",
    "\n"
   ]
  },
  {
   "cell_type": "markdown",
   "metadata": {},
   "source": [
    "<a id ='Tokens-into-dictionary'></a>\n",
    "## Tokens into dictionary\n",
    "\n",
   ]
  },
  {
   "cell_type": "code",
   "execution_count": 86,
   "metadata": {},
   "outputs": [],
   "source": [
    "from gensim import corpora, models\n",
    "\n",
    "dictionary = corpora.Dictionary(tokens)"
   ]
  },
  {
   "cell_type": "markdown",
   "metadata": {},
   "source": [
    "## Tokenize documents into document-term matrix\n",
    "\n",
   ]
  },
  {
   "cell_type": "code",
   "execution_count": 87,
   "metadata": {},
   "outputs": [],
   "source": [
    "corpus = [dictionary.doc2bow(text) for text in tokens]\n",
    "\n",
    "import pickle\n",
    "pickle.dump(corpus, open('corpus.pkl', 'wb'))\n",
    "dictionary.save('dictionary.gensim')"
   ]
  },
  {
   "cell_type": "code",
   "execution_count": 88,
   "metadata": {},
   "outputs": [
    {
     "data": {
      "text/plain": [
       "[(0, 1), (1, 1), (2, 1), (3, 1), (4, 1), (5, 1)]"
      ]
     },
     "execution_count": 88,
     "metadata": {},
     "output_type": "execute_result"
    }
   ],
   "source": [
    "corpus[0]"
   ]
  },
  {
   "cell_type": "markdown",
   "metadata": {},
   "source": [
    "## LDA model"
   ]
  },
  {
   "cell_type": "code",
   "execution_count": 89,
   "metadata": {},
   "outputs": [],
   "source": [
    "import gensim\n",
    "ldamodel = gensim.models.ldamodel.LdaModel(corpus, num_topics=6, id2word = dictionary, passes=20)\n",
    "ldamodel.save('model.gensim')"
   ]
  },
  {
   "cell_type": "code",
   "execution_count": 98,
   "metadata": {},
   "outputs": [
    {
     "name": "stdout",
     "output_type": "stream",
     "text": [
      "(0, '0.015*\"asked\" + 0.014*\"first\" + 0.014*\"found\" + 0.014*\"quite\" + 0.013*\"little\"') \n",
      "\n",
      "(1, '0.024*\"night\" + 0.015*\"woman\" + 0.013*\"seemed\" + 0.011*\"though\" + 0.011*\"without\"') \n",
      "\n",
      "(2, '0.030*\"shall\" + 0.017*\"never\" + 0.013*\"cried\" + 0.012*\"perhaps\" + 0.012*\"place\"') \n",
      "\n",
      "(3, '0.066*\"holmes\" + 0.017*\"window\" + 0.016*\"nothing\" + 0.013*\"matter\" + 0.013*\"sherlock\"') \n",
      "\n",
      "(4, '0.018*\"think\" + 0.012*\"right\" + 0.010*\"hardly\" + 0.008*\"black\" + 0.008*\"gentleman\"') \n",
      "\n",
      "(5, '0.020*\"house\" + 0.017*\"might\" + 0.017*\"round\" + 0.016*\"little\" + 0.010*\"turned\"') \n",
      "\n"
     ]
    }
   ],
   "source": [
    "for el in ldamodel.print_topics(num_topics=6, num_words=5):\n",
    "    print(el,'\\n')"
   ]
  },
  {
   "cell_type": "code",
   "execution_count": 99,
   "metadata": {},
   "outputs": [
    {
     "name": "stderr",
     "output_type": "stream",
     "text": [
      "/Users/marcotavora/anaconda3/lib/python3.6/site-packages/pyLDAvis/_prepare.py:387: DeprecationWarning: \n",
      ".ix is deprecated. Please use\n",
      ".loc for label based indexing or\n",
      ".iloc for positional indexing\n",
      "\n",
      "See the documentation here:\n",
      "http://pandas.pydata.org/pandas-docs/stable/indexing.html#ix-indexer-is-deprecated\n",
      "  topic_term_dists = topic_term_dists.ix[topic_order]\n"
     ]
    }
   ],
   "source": [
    "dictionary = gensim.corpora.Dictionary.load('dictionary.gensim')\n",
    "\n",
    "corpus = pickle.load(open('corpus.pkl', 'rb'))\n",
    "\n",
    "lda = gensim.models.ldamodel.LdaModel.load('model.gensim')\n",
    "\n",
    "import pyLDAvis.gensim\n",
    "\n",
    "lda_display = pyLDAvis.gensim.prepare(lda, corpus, dictionary, sort_topics=False)"
   ]
  },
  {
   "cell_type": "code",
   "execution_count": 97,
   "metadata": {},
   "outputs": [
    {
     "data": {
      "text/html": [
       "\n",
       "<link rel=\"stylesheet\" type=\"text/css\" href=\"https://cdn.rawgit.com/bmabey/pyLDAvis/files/ldavis.v1.0.0.css\">\n",
       "\n",
       "\n",
       "<div id=\"ldavis_el522044722270880333747728\"></div>\n",
       "<script type=\"text/javascript\">\n",
       "\n",
       "var ldavis_el522044722270880333747728_data = {\"mdsDat\": {\"Freq\": [17.23641014099121, 15.858083724975586, 16.450416564941406, 18.57763671875, 15.962958335876465, 15.914490699768066], \"cluster\": [1, 1, 1, 1, 1, 1], \"topics\": [1, 2, 3, 4, 5, 6], \"x\": [-0.09747468529322346, 0.09097705565476619, -0.2640073353340407, 0.09323999230725245, 0.09599106557025784, 0.08127390709498764], \"y\": [-0.209823905363035, -0.0757830904878413, 0.10669153917719494, 0.12498867575658416, -0.09699094366752124, 0.1509177245846183]}, \"tinfo\": {\"Category\": [\"Default\", \"Default\", \"Default\", \"Default\", \"Default\", \"Default\", \"Default\", \"Default\", \"Default\", \"Default\", \"Default\", \"Default\", \"Default\", \"Default\", \"Default\", \"Default\", \"Default\", \"Default\", \"Default\", \"Default\", \"Default\", \"Default\", \"Default\", \"Default\", \"Default\", \"Default\", \"Default\", \"Default\", \"Default\", \"Default\", \"Topic1\", \"Topic1\", \"Topic1\", \"Topic1\", \"Topic1\", \"Topic1\", \"Topic1\", \"Topic1\", \"Topic1\", \"Topic1\", \"Topic1\", \"Topic1\", \"Topic1\", \"Topic1\", \"Topic1\", \"Topic1\", \"Topic1\", \"Topic1\", \"Topic1\", \"Topic1\", \"Topic1\", \"Topic1\", \"Topic1\", \"Topic1\", \"Topic1\", \"Topic1\", \"Topic1\", \"Topic1\", \"Topic1\", \"Topic1\", \"Topic1\", \"Topic1\", \"Topic1\", \"Topic1\", \"Topic1\", \"Topic1\", \"Topic1\", \"Topic1\", \"Topic1\", \"Topic1\", \"Topic1\", \"Topic1\", \"Topic1\", \"Topic2\", \"Topic2\", \"Topic2\", \"Topic2\", \"Topic2\", \"Topic2\", \"Topic2\", \"Topic2\", \"Topic2\", \"Topic2\", \"Topic2\", \"Topic2\", \"Topic2\", \"Topic2\", \"Topic2\", \"Topic2\", \"Topic2\", \"Topic2\", \"Topic2\", \"Topic2\", \"Topic2\", \"Topic2\", \"Topic2\", \"Topic2\", \"Topic2\", \"Topic2\", \"Topic2\", \"Topic2\", \"Topic2\", \"Topic2\", \"Topic2\", \"Topic2\", \"Topic2\", \"Topic2\", \"Topic2\", \"Topic2\", \"Topic2\", \"Topic2\", \"Topic2\", \"Topic2\", \"Topic2\", \"Topic2\", \"Topic2\", \"Topic2\", \"Topic2\", \"Topic3\", \"Topic3\", \"Topic3\", \"Topic3\", \"Topic3\", \"Topic3\", \"Topic3\", \"Topic3\", \"Topic3\", \"Topic3\", \"Topic3\", \"Topic3\", \"Topic3\", \"Topic3\", \"Topic3\", \"Topic3\", \"Topic3\", \"Topic3\", \"Topic3\", \"Topic3\", \"Topic3\", \"Topic3\", \"Topic3\", \"Topic3\", \"Topic3\", \"Topic3\", \"Topic3\", \"Topic3\", \"Topic3\", \"Topic3\", \"Topic3\", \"Topic3\", \"Topic3\", \"Topic3\", \"Topic3\", \"Topic3\", \"Topic3\", \"Topic3\", \"Topic4\", \"Topic4\", \"Topic4\", \"Topic4\", \"Topic4\", \"Topic4\", \"Topic4\", \"Topic4\", \"Topic4\", \"Topic4\", \"Topic4\", \"Topic4\", \"Topic4\", \"Topic4\", \"Topic4\", \"Topic4\", \"Topic4\", \"Topic4\", \"Topic4\", \"Topic4\", \"Topic4\", \"Topic4\", \"Topic4\", \"Topic4\", \"Topic4\", \"Topic4\", \"Topic4\", \"Topic4\", \"Topic4\", \"Topic4\", \"Topic4\", \"Topic4\", \"Topic4\", \"Topic4\", \"Topic4\", \"Topic4\", \"Topic4\", \"Topic4\", \"Topic4\", \"Topic4\", \"Topic4\", \"Topic4\", \"Topic4\", \"Topic4\", \"Topic4\", \"Topic4\", \"Topic5\", \"Topic5\", \"Topic5\", \"Topic5\", \"Topic5\", \"Topic5\", \"Topic5\", \"Topic5\", \"Topic5\", \"Topic5\", \"Topic5\", \"Topic5\", \"Topic5\", \"Topic5\", \"Topic5\", \"Topic5\", \"Topic5\", \"Topic5\", \"Topic5\", \"Topic5\", \"Topic5\", \"Topic5\", \"Topic5\", \"Topic5\", \"Topic5\", \"Topic5\", \"Topic5\", \"Topic5\", \"Topic5\", \"Topic5\", \"Topic5\", \"Topic5\", \"Topic5\", \"Topic5\", \"Topic5\", \"Topic5\", \"Topic5\", \"Topic5\", \"Topic5\", \"Topic5\", \"Topic5\", \"Topic5\", \"Topic6\", \"Topic6\", \"Topic6\", \"Topic6\", \"Topic6\", \"Topic6\", \"Topic6\", \"Topic6\", \"Topic6\", \"Topic6\", \"Topic6\", \"Topic6\", \"Topic6\", \"Topic6\", \"Topic6\", \"Topic6\", \"Topic6\", \"Topic6\", \"Topic6\", \"Topic6\", \"Topic6\", \"Topic6\", \"Topic6\", \"Topic6\", \"Topic6\", \"Topic6\", \"Topic6\", \"Topic6\", \"Topic6\", \"Topic6\", \"Topic6\", \"Topic6\", \"Topic6\", \"Topic6\", \"Topic6\", \"Topic6\", \"Topic6\", \"Topic6\", \"Topic6\", \"Topic6\", \"Topic6\"], \"Freq\": [364.0, 148.0, 113.0, 131.0, 91.0, 83.0, 80.0, 86.0, 110.0, 76.0, 162.0, 74.0, 69.0, 66.0, 70.0, 96.0, 90.0, 60.0, 61.0, 237.0, 57.0, 57.0, 81.0, 129.0, 51.0, 78.0, 52.0, 72.0, 68.0, 67.0, 75.7640380859375, 73.39092254638672, 51.75761413574219, 41.98812484741211, 41.694576263427734, 39.04896926879883, 34.956634521484375, 29.438581466674805, 29.19217300415039, 28.906579971313477, 28.30179786682129, 26.533706665039062, 24.378684997558594, 24.188756942749023, 24.130558013916016, 24.078861236572266, 23.667734146118164, 23.317615509033203, 23.069299697875977, 23.07766342163086, 22.849925994873047, 22.1037540435791, 21.70905113220215, 21.131587982177734, 20.839805603027344, 20.754940032958984, 20.377790451049805, 19.498472213745117, 19.35637664794922, 19.00436019897461, 72.57984924316406, 54.39366912841797, 71.09187316894531, 40.800357818603516, 27.29414939880371, 49.71845626831055, 43.723106384277344, 33.70331954956055, 33.087005615234375, 68.76974487304688, 26.710195541381836, 31.99085235595703, 25.005708694458008, 112.9043960571289, 68.81607055664062, 59.56197738647461, 51.24420928955078, 31.12574005126953, 27.48844337463379, 27.35772132873535, 25.627538681030273, 23.32056999206543, 23.108354568481445, 20.454504013061523, 20.32166290283203, 20.237926483154297, 19.772090911865234, 19.63385581970215, 18.695892333984375, 18.255971908569336, 17.606290817260742, 16.988744735717773, 16.219131469726562, 16.14714241027832, 15.831008911132812, 15.46996021270752, 14.770642280578613, 14.733421325683594, 14.135321617126465, 14.089661598205566, 13.508988380432129, 13.344300270080566, 13.331148147583008, 45.898765563964844, 49.77014923095703, 35.270179748535156, 37.42839050292969, 19.934492111206055, 22.016450881958008, 23.488998413085938, 19.876148223876953, 30.02140235900879, 18.12140655517578, 29.644737243652344, 24.607301712036133, 24.797916412353516, 23.51035499572754, 20.03205680847168, 147.905517578125, 82.67313385009766, 65.95446014404297, 60.584678649902344, 57.122398376464844, 56.678958892822266, 40.942893981933594, 36.71162033081055, 34.19739532470703, 31.5104923248291, 28.348661422729492, 26.487550735473633, 25.84478759765625, 25.31155776977539, 23.1729736328125, 22.053730010986328, 21.688352584838867, 21.35198402404785, 21.088741302490234, 20.962156295776367, 20.297136306762695, 19.67947769165039, 19.34351348876953, 18.951189041137695, 18.205595016479492, 18.171342849731445, 17.928483963012695, 17.38944435119629, 16.40074348449707, 16.271608352661133, 51.83554458618164, 28.615964889526367, 49.940711975097656, 31.30881690979004, 27.4687557220459, 30.302555084228516, 45.50910568237305, 21.408828735351562, 364.0661315917969, 91.29010772705078, 86.06597137451172, 69.63288116455078, 48.51578140258789, 45.21628189086914, 43.77345275878906, 36.49117660522461, 33.40205383300781, 31.651527404785156, 30.062253952026367, 29.433429718017578, 29.055463790893555, 27.72913932800293, 26.74114990234375, 26.320146560668945, 25.155515670776367, 23.685062408447266, 22.245555877685547, 20.380245208740234, 20.265047073364258, 19.567575454711914, 18.915010452270508, 18.335466384887695, 18.049951553344727, 17.610361099243164, 15.846235275268555, 15.263753890991211, 14.861786842346191, 14.637876510620117, 59.53268814086914, 62.60820770263672, 33.45338439941406, 73.92753601074219, 39.66862487792969, 23.133081436157227, 36.525787353515625, 33.62725067138672, 40.91141128540039, 24.46289825439453, 29.66069221496582, 45.54559326171875, 45.16731643676758, 35.382171630859375, 28.82936668395996, 27.338808059692383, 46.58829116821289, 40.00100326538086, 39.935909271240234, 37.631072998046875, 35.759647369384766, 29.102542877197266, 28.978042602539062, 27.485559463500977, 24.479753494262695, 24.374555587768555, 24.0394287109375, 21.885744094848633, 21.50800323486328, 20.29488182067871, 19.864662170410156, 19.60173797607422, 19.31109046936035, 19.302324295043945, 18.150550842285156, 16.87251091003418, 16.37108612060547, 16.332033157348633, 16.24136734008789, 15.497652053833008, 15.339095115661621, 15.114603996276855, 14.520401000976562, 14.348591804504395, 14.276841163635254, 14.056561470031738, 58.6818733215332, 30.013469696044922, 87.3250961303711, 28.5230655670166, 29.17997932434082, 29.29004669189453, 25.439697265625, 34.965965270996094, 24.17462921142578, 22.96695327758789, 19.691980361938477, 18.60728645324707, 79.38065338134766, 45.400821685791016, 40.165931701660156, 37.4122428894043, 30.074167251586914, 28.74756622314453, 25.49359893798828, 25.25200843811035, 24.10072898864746, 23.282604217529297, 21.881641387939453, 22.43373680114746, 21.347415924072266, 21.295406341552734, 20.02743148803711, 19.422483444213867, 19.260801315307617, 18.892948150634766, 18.618146896362305, 18.44428062438965, 18.38416290283203, 18.349674224853516, 17.87031364440918, 17.465862274169922, 16.892663955688477, 16.58032989501953, 16.414749145507812, 16.22156524658203, 16.06276512145996, 15.79086685180664, 95.67534637451172, 79.73548126220703, 31.88294219970703, 27.298845291137695, 36.97456359863281, 77.37249755859375, 36.00803756713867, 28.870502471923828, 22.08758544921875, 20.8045597076416, 20.04483413696289], \"Term\": [\"holmes\", \"shall\", \"night\", \"house\", \"window\", \"never\", \"round\", \"nothing\", \"might\", \"asked\", \"think\", \"first\", \"woman\", \"cried\", \"sherlock\", \"quite\", \"found\", \"seemed\", \"perhaps\", \"little\", \"place\", \"business\", \"right\", \"matter\", \"though\", \"thought\", \"enough\", \"young\", \"still\", \"without\", \"asked\", \"first\", \"enough\", \"anything\", \"looked\", \"clear\", \"least\", \"companion\", \"dress\", \"manner\", \"lestrade\", \"death\", \"coming\", \"finger\", \"remember\", \"chance\", \"public\", \"second\", \"problem\", \"taken\", \"station\", \"office\", \"married\", \"experience\", \"followed\", \"silence\", \"cause\", \"drove\", \"locked\", \"return\", \"found\", \"still\", \"quite\", \"point\", \"together\", \"light\", \"thing\", \"brought\", \"police\", \"little\", \"since\", \"matter\", \"however\", \"night\", \"woman\", \"seemed\", \"though\", \"sound\", \"family\", \"sister\", \"going\", \"spoke\", \"floor\", \"occurred\", \"secret\", \"anyone\", \"quiet\", \"train\", \"silent\", \"dreadful\", \"sight\", \"direction\", \"towards\", \"company\", \"beech\", \"neither\", \"finally\", \"turning\", \"entirely\", \"serious\", \"whatever\", \"thumb\", \"servant\", \"rucastle\", \"without\", \"always\", \"father\", \"husband\", \"among\", \"really\", \"returned\", \"might\", \"toller\", \"think\", \"however\", \"quite\", \"matter\", \"rather\", \"shall\", \"never\", \"cried\", \"perhaps\", \"place\", \"business\", \"pound\", \"child\", \"baker\", \"strong\", \"reason\", \"sitting\", \"several\", \"alone\", \"stair\", \"shoulder\", \"struck\", \"order\", \"quick\", \"daughter\", \"happy\", \"fancy\", \"character\", \"wedding\", \"close\", \"happened\", \"caught\", \"copper\", \"wooden\", \"slowly\", \"street\", \"another\", \"morning\", \"course\", \"money\", \"watson\", \"little\", \"hunter\", \"holmes\", \"window\", \"nothing\", \"sherlock\", \"remarked\", \"possible\", \"answered\", \"evening\", \"goose\", \"london\", \"believe\", \"rushed\", \"country\", \"seems\", \"either\", \"seven\", \"threw\", \"known\", \"breakfast\", \"present\", \"ready\", \"sprang\", \"frank\", \"someone\", \"speak\", \"showed\", \"change\", \"bright\", \"afterwards\", \"morrow\", \"young\", \"thought\", \"letter\", \"matter\", \"doubt\", \"fellow\", \"every\", \"something\", \"friend\", \"across\", \"indeed\", \"think\", \"little\", \"house\", \"heard\", \"morning\", \"hardly\", \"black\", \"gentleman\", \"story\", \"certainly\", \"crime\", \"holder\", \"colonel\", \"appeared\", \"obvious\", \"inspector\", \"everything\", \"standing\", \"clair\", \"glancing\", \"figure\", \"opinion\", \"smiling\", \"glanced\", \"important\", \"advice\", \"feature\", \"taking\", \"listened\", \"account\", \"missing\", \"trust\", \"frightened\", \"neville\", \"theory\", \"right\", \"already\", \"think\", \"coronet\", \"leave\", \"front\", \"passed\", \"heard\", \"behind\", \"table\", \"stone\", \"waiting\", \"round\", \"turned\", \"whole\", \"understand\", \"arthur\", \"corner\", \"heart\", \"imagine\", \"walked\", \"affair\", \"danger\", \"passage\", \"absolutely\", \"beside\", \"thank\", \"fresh\", \"result\", \"shown\", \"hurried\", \"drawn\", \"extraordinary\", \"banker\", \"glass\", \"george\", \"dressing\", \"address\", \"chamber\", \"reached\", \"surprised\", \"observe\", \"house\", \"might\", \"whether\", \"opened\", \"paper\", \"little\", \"small\", \"chair\", \"clock\", \"stood\", \"entered\"], \"Total\": [364.0, 148.0, 113.0, 131.0, 91.0, 83.0, 80.0, 86.0, 110.0, 76.0, 162.0, 74.0, 69.0, 66.0, 70.0, 96.0, 90.0, 60.0, 61.0, 237.0, 57.0, 57.0, 81.0, 129.0, 51.0, 78.0, 52.0, 72.0, 68.0, 67.0, 76.45978546142578, 74.0871353149414, 52.454017639160156, 42.683902740478516, 42.39085006713867, 39.74479293823242, 35.65333938598633, 30.13409996032715, 29.888465881347656, 29.604053497314453, 28.997949600219727, 27.229476928710938, 25.074344635009766, 24.88445281982422, 24.82662010192871, 24.77488136291504, 24.366668701171875, 24.013992309570312, 23.764638900756836, 23.773801803588867, 23.545942306518555, 22.79961395263672, 22.405397415161133, 21.827783584594727, 21.535341262817383, 21.451650619506836, 21.073774337768555, 20.1943359375, 20.053024291992188, 19.700838088989258, 90.79734802246094, 68.49331665039062, 96.44889068603516, 53.20875549316406, 31.316822052001953, 73.0680160522461, 61.57861328125, 46.867244720458984, 46.51078796386719, 237.09603881835938, 33.46004104614258, 129.84727478027344, 92.6116943359375, 113.60335540771484, 69.51517486572266, 60.261146545410156, 51.94365692138672, 31.82485008239746, 28.186866760253906, 28.056428909301758, 26.326370239257812, 24.0194149017334, 23.80872344970703, 21.153871536254883, 21.020153045654297, 20.93608856201172, 20.47199821472168, 20.332693099975586, 19.395231246948242, 18.955320358276367, 18.306182861328125, 17.687349319458008, 16.917613983154297, 16.84583854675293, 16.535001754760742, 16.17038345336914, 15.470251083374023, 15.43274211883545, 14.83337116241455, 14.788362503051758, 14.208014488220215, 14.042512893676758, 14.030119895935059, 58.22822952270508, 67.74977111816406, 45.2606086730957, 57.956844329833984, 23.996137619018555, 29.30112075805664, 43.78923416137695, 31.137493133544922, 110.31680297851562, 25.059795379638672, 162.9364471435547, 92.6116943359375, 96.44889068603516, 129.84727478027344, 53.716697692871094, 148.60317993164062, 83.37017822265625, 66.65210723876953, 61.28285217285156, 57.82085037231445, 57.37607192993164, 41.63994598388672, 37.4096565246582, 34.893917083740234, 32.20847702026367, 29.04673957824707, 27.185091018676758, 26.543058395385742, 26.01047706604004, 23.871286392211914, 22.751033782958984, 22.38641929626465, 22.050100326538086, 21.786296844482422, 21.65997886657715, 20.99460220336914, 20.376848220825195, 20.040847778320312, 19.649702072143555, 18.902759552001953, 18.868179321289062, 18.6258602142334, 18.091711044311523, 17.09988784790039, 16.9705810546875, 66.29087829589844, 36.0120964050293, 92.76458740234375, 48.20594787597656, 38.77406692504883, 64.0799560546875, 237.09603881835938, 34.360504150390625, 364.76318359375, 91.9875259399414, 86.76239776611328, 70.32870483398438, 49.21184539794922, 45.91288757324219, 44.470420837402344, 37.188499450683594, 34.0999641418457, 32.34917068481445, 30.75923728942871, 30.13099479675293, 29.753150939941406, 28.426671981811523, 27.43816566467285, 27.017431259155273, 25.85369300842285, 24.382720947265625, 22.942426681518555, 21.077425003051758, 20.962268829345703, 20.26467514038086, 19.61444091796875, 19.032472610473633, 18.746807098388672, 18.30809211730957, 16.54365348815918, 15.961714744567871, 15.560437202453613, 15.334649085998535, 72.12994384765625, 78.38729858398438, 39.148292541503906, 129.84727478027344, 59.689002990722656, 28.05497169494629, 60.865211486816406, 55.719764709472656, 81.70658874511719, 31.769550323486328, 50.34746170043945, 162.9364471435547, 237.09603881835938, 131.61585998535156, 93.98247528076172, 92.76458740234375, 47.287899017333984, 40.69984817504883, 40.6342887878418, 38.3296012878418, 36.45791244506836, 29.80096435546875, 29.677583694458008, 28.18621253967285, 25.179121017456055, 25.072673797607422, 24.737998962402344, 22.584449768066406, 22.207134246826172, 20.993242263793945, 20.564071655273438, 20.30103302001953, 20.009170532226562, 20.002334594726562, 18.848588943481445, 17.5716552734375, 17.069435119628906, 17.030559539794922, 16.93986701965332, 16.195493698120117, 16.0367431640625, 15.813433647155762, 15.219585418701172, 15.04769229888916, 14.975065231323242, 14.754843711853027, 81.47917938232422, 39.34873580932617, 162.9364471435547, 38.61201095581055, 43.57876205444336, 45.52133560180664, 40.63972854614258, 93.98247528076172, 42.284271240234375, 45.703338623046875, 31.56113052368164, 31.118499755859375, 80.07855224609375, 46.09847640991211, 40.86356735229492, 38.10957717895508, 30.77351188659668, 29.44450569152832, 26.19101333618164, 25.949682235717773, 24.79854965209961, 23.981361389160156, 22.57942008972168, 23.16383171081543, 22.04475975036621, 21.992935180664062, 20.724443435668945, 20.120121002197266, 19.958240509033203, 19.590471267700195, 19.315048217773438, 19.141889572143555, 19.08271598815918, 19.051265716552734, 18.567916870117188, 18.16341781616211, 17.58913230895996, 17.2767391204834, 17.112468719482422, 16.91913414001465, 16.76043701171875, 16.488149642944336, 131.61585998535156, 110.31680297851562, 41.038299560546875, 37.79391860961914, 63.22004318237305, 237.09603881835938, 64.04693603515625, 50.13238525390625, 33.076290130615234, 32.15829086303711, 28.314342498779297], \"loglift\": [30.0, 29.0, 28.0, 27.0, 26.0, 25.0, 24.0, 23.0, 22.0, 21.0, 20.0, 19.0, 18.0, 17.0, 16.0, 15.0, 14.0, 13.0, 12.0, 11.0, 10.0, 9.0, 8.0, 7.0, 6.0, 5.0, 4.0, 3.0, 2.0, 1.0, 1.7489999532699585, 1.7487000226974487, 1.7447999715805054, 1.7417000532150269, 1.7416000366210938, 1.7404999732971191, 1.7383999824523926, 1.7347999811172485, 1.7345999479293823, 1.7343000173568726, 1.7338000535964966, 1.732300043106079, 1.7300000190734863, 1.7297999858856201, 1.729699969291687, 1.729699969291687, 1.7289999723434448, 1.728700041770935, 1.7285000085830688, 1.7283999919891357, 1.7280999422073364, 1.7272000312805176, 1.7266000509262085, 1.7257000207901, 1.7252999544143677, 1.725100040435791, 1.7245999574661255, 1.723099946975708, 1.7228000164031982, 1.7222000360488892, 1.5341999530792236, 1.5276999473571777, 1.4530999660491943, 1.4925999641418457, 1.6207000017166138, 1.3731000423431396, 1.4156999588012695, 1.4284000396728516, 1.4176000356674194, 0.5203999876976013, 1.5327999591827393, 0.3571999967098236, 0.4487999975681305, 1.8352999687194824, 1.8314000368118286, 1.829800009727478, 1.8279000520706177, 1.8193000555038452, 1.8164000511169434, 1.8163000345230103, 1.8145999908447266, 1.812000036239624, 1.8115999698638916, 1.8078999519348145, 1.8077000379562378, 1.8076000213623047, 1.8066999912261963, 1.80649995803833, 1.804800033569336, 1.8039000034332275, 1.8025000095367432, 1.801200032234192, 1.799299955368042, 1.7991000413894653, 1.7979999780654907, 1.7971999645233154, 1.795199990272522, 1.7950999736785889, 1.7933000326156616, 1.7930999994277954, 1.7910000085830688, 1.7905000448226929, 1.7904000282287598, 1.603600025177002, 1.5331000089645386, 1.5921000242233276, 1.4041999578475952, 1.656000018119812, 1.5556999444961548, 1.2186000347137451, 1.3926000595092773, 0.5400000214576721, 1.517300009727478, 0.13740000128746033, 0.5160999894142151, 0.4832000136375427, 0.13259999454021454, 0.8550999760627747, 1.8000999689102173, 1.7963999509811401, 1.7942999601364136, 1.7934000492095947, 1.7927000522613525, 1.7926000356674194, 1.7878999710083008, 1.7860000133514404, 1.7847000360488892, 1.7828999757766724, 1.780500054359436, 1.7788000106811523, 1.7782000303268433, 1.7776000499725342, 1.7750999927520752, 1.7736999988555908, 1.7731000185012817, 1.7726000547409058, 1.7723000049591064, 1.7720999717712402, 1.7710000276565552, 1.7699999809265137, 1.7694000005722046, 1.7685999870300293, 1.767199993133545, 1.767199993133545, 1.766700029373169, 1.7652000188827515, 1.763100028038025, 1.7627999782562256, 1.5587999820709229, 1.5749000310897827, 1.1856000423431396, 1.3732000589370728, 1.4601000547409058, 1.055899977684021, 0.1543000042438507, 1.3316999673843384, 1.6813000440597534, 1.6756000518798828, 1.6751999855041504, 1.67330002784729, 1.6690000295639038, 1.6678999662399292, 1.6674000024795532, 1.6642999649047852, 1.662500023841858, 1.6613999605178833, 1.6603000164031982, 1.6598000526428223, 1.659500002861023, 1.658400058746338, 1.6575000286102295, 1.657099962234497, 1.6557999849319458, 1.6541999578475952, 1.652400016784668, 1.6496000289916992, 1.649399995803833, 1.6482000350952148, 1.6469000577926636, 1.645900011062622, 1.645300030708313, 1.6444000005722046, 1.6401000022888184, 1.6384999752044678, 1.6373000144958496, 1.6367000341415405, 1.4912999868392944, 1.458400011062622, 1.5260000228881836, 1.1198999881744385, 1.2746000289916992, 1.4903000593185425, 1.1726000308990479, 1.1782000064849854, 0.9915000200271606, 1.4219000339508057, 1.154099941253662, 0.40860000252723694, 0.025100000202655792, 0.3695000112056732, 0.5015000104904175, 0.46149998903274536, 1.8200000524520874, 1.8176000118255615, 1.8176000118255615, 1.816499948501587, 1.815600037574768, 1.8112000226974487, 1.8109999895095825, 1.8097000122070312, 1.8066999912261963, 1.8066999912261963, 1.8063000440597534, 1.8035000562667847, 1.802899956703186, 1.8011000156402588, 1.8003000020980835, 1.7998000383377075, 1.799399971961975, 1.799299955368042, 1.7971999645233154, 1.7942999601364136, 1.7930999994277954, 1.7929999828338623, 1.792799949645996, 1.7908999919891357, 1.7904000282287598, 1.7897000312805176, 1.7878999710083008, 1.7872999906539917, 1.7871999740600586, 1.7863999605178833, 1.506700038909912, 1.5641000270843506, 1.2111999988555908, 1.531999945640564, 1.4337999820709229, 1.3940000534057617, 1.3665000200271606, 0.8461999893188477, 1.2757999897003174, 1.1468000411987305, 1.3631999492645264, 1.3207000494003296, 1.829200029373169, 1.822700023651123, 1.8207000494003296, 1.8194999694824219, 1.815000057220459, 1.8140000104904175, 1.8109999895095825, 1.8107000589370728, 1.809399962425232, 1.80840003490448, 1.80649995803833, 1.805899977684021, 1.805799961090088, 1.8056999444961548, 1.8036999702453613, 1.8027000427246094, 1.80239999294281, 1.8016999959945679, 1.801200032234192, 1.8007999658584595, 1.8006000518798828, 1.8004000186920166, 1.7996000051498413, 1.798799991607666, 1.7975000143051147, 1.7968000173568726, 1.7963000535964966, 1.795799970626831, 1.7954000234603882, 1.794700026512146, 1.5190000534057617, 1.5132999420166016, 1.5855000019073486, 1.5125999450683594, 1.3014999628067017, 0.7181000113487244, 1.2620999813079834, 1.2861000299453735, 1.4341000318527222, 1.402400016784668, 1.4924999475479126], \"logprob\": [30.0, 29.0, 28.0, 27.0, 26.0, 25.0, 24.0, 23.0, 22.0, 21.0, 20.0, 19.0, 18.0, 17.0, 16.0, 15.0, 14.0, 13.0, 12.0, 11.0, 10.0, 9.0, 8.0, 7.0, 6.0, 5.0, 4.0, 3.0, 2.0, 1.0, -4.213500022888184, -4.245299816131592, -4.5945000648498535, -4.803699970245361, -4.810699939727783, -4.876299858093262, -4.986999988555908, -5.15880012512207, -5.167200088500977, -5.177000045776367, -5.198200225830078, -5.262700080871582, -5.347400188446045, -5.355199813842773, -5.357600212097168, -5.359799861907959, -5.376999855041504, -5.391900062561035, -5.402599811553955, -5.402200222015381, -5.412099838256836, -5.445300102233887, -5.463399887084961, -5.490300178527832, -5.504199981689453, -5.508299827575684, -5.526599884033203, -5.570799827575684, -5.578100204467773, -5.596399784088135, -4.256400108337402, -4.5447998046875, -4.277100086212158, -4.832399845123291, -5.234399795532227, -4.634699821472168, -4.763199806213379, -5.023499965667725, -5.041999816894531, -4.310299873352051, -5.25600004196167, -5.0756001472473145, -5.322000026702881, -3.7311999797821045, -4.22629976272583, -4.370699882507324, -4.521100044250488, -5.019700050354004, -5.144000053405762, -5.14870023727417, -5.214099884033203, -5.3084001541137695, -5.317599773406982, -5.439499855041504, -5.446100234985352, -5.450200080871582, -5.473499774932861, -5.480500221252441, -5.529399871826172, -5.553299903869629, -5.5894999504089355, -5.625199794769287, -5.671599864959717, -5.676000118255615, -5.695799827575684, -5.718800067901611, -5.765100002288818, -5.767600059509277, -5.809100151062012, -5.812300205230713, -5.854400157928467, -5.866700172424316, -5.867599964141846, -4.63129997253418, -4.550300121307373, -4.894700050354004, -4.835299968719482, -5.4653000831604, -5.366000175476074, -5.301199913024902, -5.468200206756592, -5.055799961090088, -5.560699939727783, -5.06850004196167, -5.254700183868408, -5.247000217437744, -5.300300121307373, -5.460400104522705, -3.49780011177063, -4.079500198364258, -4.305500030517578, -4.390399932861328, -4.44920015335083, -4.456999778747559, -4.782199859619141, -4.891300201416016, -4.962299823760986, -5.044099807739258, -5.149799823760986, -5.217700004577637, -5.242300033569336, -5.263199806213379, -5.351399898529053, -5.400899887084961, -5.417600154876709, -5.433300018310547, -5.445700168609619, -5.451700210571289, -5.48390007019043, -5.514800071716309, -5.532100200653076, -5.552599906921387, -5.592700004577637, -5.594600200653076, -5.607999801635742, -5.638599872589111, -5.6971001625061035, -5.704999923706055, -4.546299934387207, -5.140500068664551, -4.583600044250488, -5.05049991607666, -5.181399822235107, -5.083199977874756, -4.676499843597412, -5.430600166320801, -2.7186999320983887, -4.1020002365112305, -4.160900115966797, -4.372799873352051, -4.734099864959717, -4.804599761962891, -4.836999893188477, -5.019000053405762, -5.107399940490723, -5.161200046539307, -5.212800025939941, -5.23390007019043, -5.246799945831299, -5.293499946594238, -5.329800128936768, -5.345699787139893, -5.390900135040283, -5.451200008392334, -5.513899803161621, -5.601500034332275, -5.607100009918213, -5.642199993133545, -5.67609977722168, -5.707200050354004, -5.722899913787842, -5.747499942779541, -5.853099822998047, -5.890500068664551, -5.917200088500977, -5.932400226593018, -4.5295000076293945, -4.479100227355957, -5.105899810791016, -4.312900066375732, -4.935500144958496, -5.474800109863281, -5.01800012588501, -5.1006999015808105, -4.904600143432617, -5.418900012969971, -5.226200103759766, -4.797299861907959, -4.805699825286865, -5.049799919128418, -5.2546000480651855, -5.307700157165527, -4.623000144958496, -4.775400161743164, -4.777100086212158, -4.83650016784668, -4.887499809265137, -5.093500137329102, -5.097799777984619, -5.150700092315674, -5.266499996185303, -5.2708001136779785, -5.284599781036377, -5.378499984741211, -5.395899772644043, -5.453999996185303, -5.475399971008301, -5.488699913024902, -5.503699779510498, -5.5040998458862305, -5.5655999183654785, -5.638700008392334, -5.668799877166748, -5.671199798583984, -5.676799774169922, -5.723599910736084, -5.73390007019043, -5.748700141906738, -5.78879976272583, -5.8007001876831055, -5.805699825286865, -5.821199893951416, -4.392199993133545, -5.062699794769287, -3.9946999549865723, -5.11359977722168, -5.09089994430542, -5.087100028991699, -5.228000164031982, -4.909999847412109, -5.2789998054504395, -5.3302998542785645, -5.484099864959717, -5.540800094604492, -4.086999893188477, -4.6458001136779785, -4.7683000564575195, -4.839300155639648, -5.057600021362305, -5.102700233459473, -5.222899913787842, -5.232399940490723, -5.279099941253662, -5.313600063323975, -5.3755998611450195, -5.3506999015808105, -5.400400161743164, -5.4028000831604, -5.464200019836426, -5.494900226593018, -5.503200054168701, -5.522500038146973, -5.537199974060059, -5.546500205993652, -5.549799919128418, -5.551700115203857, -5.578199863433838, -5.60099983215332, -5.634399890899658, -5.65310001373291, -5.663099765777588, -5.675000190734863, -5.684800148010254, -5.701900005340576, -3.9003000259399414, -4.082600116729736, -4.999199867248535, -5.1545000076293945, -4.851099967956543, -4.11269998550415, -4.877600193023682, -5.098499774932861, -5.366300106048584, -5.42609977722168, -5.4633002281188965]}, \"token.table\": {\"Topic\": [6, 5, 2, 4, 6, 5, 6, 4, 3, 1, 5, 2, 6, 2, 6, 3, 5, 4, 2, 1, 5, 6, 1, 3, 6, 2, 5, 6, 4, 6, 5, 4, 4, 1, 6, 3, 3, 1, 5, 3, 4, 6, 6, 1, 4, 3, 3, 5, 1, 1, 6, 3, 5, 1, 1, 2, 3, 6, 1, 5, 4, 1, 3, 3, 5, 6, 3, 1, 2, 4, 5, 6, 6, 2, 1, 6, 1, 4, 1, 5, 6, 2, 4, 2, 4, 5, 5, 1, 6, 2, 3, 1, 2, 5, 2, 4, 5, 2, 1, 1, 2, 1, 1, 5, 4, 6, 2, 4, 5, 6, 5, 4, 5, 6, 5, 6, 5, 5, 6, 2, 4, 3, 3, 5, 1, 3, 4, 5, 6, 5, 4, 4, 6, 1, 2, 3, 4, 5, 6, 2, 3, 6, 6, 2, 5, 6, 5, 2, 3, 4, 5, 4, 1, 1, 5, 6, 1, 3, 4, 1, 4, 5, 1, 3, 4, 6, 1, 4, 1, 1, 1, 1, 2, 4, 2, 6, 5, 3, 4, 3, 4, 6, 4, 2, 3, 5, 2, 4, 6, 5, 2, 1, 3, 6, 5, 3, 1, 5, 6, 6, 1, 5, 3, 3, 1, 2, 1, 3, 4, 3, 4, 1, 1, 3, 2, 1, 2, 1, 2, 3, 4, 6, 4, 1, 2, 3, 4, 1, 6, 1, 2, 3, 1, 5, 6, 2, 5, 4, 1, 2, 2, 4, 2, 2, 4, 3, 3, 4, 3, 4, 6, 2, 1, 2, 1, 3, 2, 3, 3, 4, 5, 6, 5, 4, 2, 3, 4, 2, 4, 2, 4, 3, 5, 1, 1, 3, 5, 6, 4, 6, 5, 1, 3, 3, 3, 6, 3, 5, 6, 1, 5, 6, 5, 1, 4, 2, 4, 5, 2, 1, 4, 4, 2, 1, 6, 2, 6, 2, 2, 5, 6, 2, 6, 3, 5, 6, 1, 3, 4, 3, 2, 3, 6, 6, 4, 2, 3, 2, 3, 3, 4], \"Freq\": [0.9526073336601257, 0.9353520274162292, 0.22033676505088806, 0.755440354347229, 0.9839819669723511, 0.937347948551178, 0.9590781331062317, 0.9639831781387329, 0.961151123046875, 0.22872398793697357, 0.7624133229255676, 0.7732993364334106, 0.1988484114408493, 0.750824511051178, 0.23889870941638947, 0.8052849769592285, 0.19437913596630096, 0.9894217252731323, 0.955288290977478, 0.9839774966239929, 0.953170657157898, 0.9748643636703491, 0.9939865469932556, 0.9743818640708923, 0.9448190927505493, 0.9676442742347717, 0.5675869584083557, 0.4256902039051056, 0.9753167629241943, 0.9548521041870117, 0.9828046560287476, 0.9589220881462097, 0.9397486448287964, 0.7254533767700195, 0.27737921476364136, 0.9934455156326294, 0.966398298740387, 0.9490469098091125, 0.9874399900436401, 0.11968311667442322, 0.29920777678489685, 0.578468382358551, 0.9349907636642456, 0.9687231183052063, 0.9671382308006287, 0.9480636715888977, 0.9890494346618652, 0.9526875019073486, 0.9812605977058411, 0.3023313581943512, 0.6651290059089661, 0.9522418975830078, 0.9579151272773743, 0.9571536183357239, 0.962364912033081, 0.9497894644737244, 0.9396568536758423, 0.9849036335945129, 0.25898677110671997, 0.7510616183280945, 0.9746866822242737, 0.3319092392921448, 0.6430741548538208, 0.9902162551879883, 0.9731228947639465, 0.9743385910987854, 0.9695300459861755, 0.9915724992752075, 0.961138904094696, 0.6701402068138123, 0.16753505170345306, 0.16753505170345306, 0.9403460621833801, 0.9496014714241028, 0.9702739715576172, 0.9665058851242065, 0.9408578872680664, 0.9840307831764221, 0.9913444519042969, 0.28254231810569763, 0.7063558101654053, 0.9438177943229675, 0.968041181564331, 0.18072721362113953, 0.6079006195068359, 0.2135867029428482, 0.9741215705871582, 0.9620766043663025, 0.943261981010437, 0.957892894744873, 0.9815060496330261, 0.3450843393802643, 0.6384060382843018, 0.939487636089325, 0.14257723093032837, 0.8198190331459045, 0.9851715564727783, 0.9696028828620911, 0.964457631111145, 0.9853262901306152, 0.9660324454307556, 0.9751412868499756, 0.8039882183074951, 0.19824367761611938, 0.9686740636825562, 0.9443283081054688, 0.22030046582221985, 0.5017955303192139, 0.14686697721481323, 0.1346280723810196, 0.9303752183914185, 0.21967720985412598, 0.6370639204978943, 0.13180632889270782, 0.9843903183937073, 0.9359471797943115, 0.9549786448478699, 0.9725700616836548, 0.9694140553474426, 0.9876028895378113, 0.9677429795265198, 0.9539871215820312, 0.9526258111000061, 0.9939118027687073, 0.170244500041008, 0.14896394312381744, 0.30856817960739136, 0.372409850358963, 0.954525887966156, 0.9771685004234314, 0.9979077577590942, 0.26592540740966797, 0.7293953895568848, 0.26994431018829346, 0.26994431018829346, 0.05398886278271675, 0.1943598985671997, 0.1295732706785202, 0.0863821804523468, 0.11641272902488708, 0.6111668348312378, 0.26192864775657654, 0.9836889505386353, 0.8334674835205078, 0.16669349372386932, 0.9634029269218445, 0.967467188835144, 0.19861973822116852, 0.19861973822116852, 0.5958592295646667, 0.9701673984527588, 0.9843035936355591, 0.9816752076148987, 0.16062870621681213, 0.6654617786407471, 0.1376817375421524, 0.9655855298042297, 0.12771949172019958, 0.8429486155509949, 0.6842939257621765, 0.3147751986980438, 0.9261835813522339, 0.29102131724357605, 0.19401420652866364, 0.18979650735855103, 0.32476291060447693, 0.947488009929657, 0.9892061948776245, 0.9907798767089844, 0.9795956015586853, 0.9819062352180481, 0.24644337594509125, 0.18483252823352814, 0.5699002742767334, 0.2719440758228302, 0.7251842021942139, 0.9485605955123901, 0.6963416934013367, 0.2836947739124298, 0.5389987826347351, 0.29105934500694275, 0.16169963777065277, 0.9781769514083862, 0.9276217818260193, 0.995559811592102, 0.9348874092102051, 0.9946889281272888, 0.991212785243988, 0.9703938961029053, 0.9572173953056335, 0.945453405380249, 0.9649286270141602, 0.26459282636642456, 0.7144006490707397, 0.9495645761489868, 0.9523766040802002, 0.23726652562618256, 0.17399545013904572, 0.5852574110031128, 0.9497565031051636, 0.369096964597702, 0.6151615977287292, 0.9953844547271729, 0.9858035445213318, 0.7705498933792114, 0.22552679479122162, 0.7095128297805786, 0.27950504422187805, 0.9801169633865356, 0.9846314191818237, 0.948882520198822, 0.9678245186805725, 0.9849520325660706, 0.9639086723327637, 0.9769442081451416, 0.7361412048339844, 0.259204626083374, 0.2047780454158783, 0.3723237216472626, 0.07446473836898804, 0.33509132266044617, 0.9456748962402344, 0.954095184803009, 0.45673325657844543, 0.5252432823181152, 0.9639636278152466, 0.9956952333450317, 0.9667043089866638, 0.9519877433776855, 0.9644259810447693, 0.6423124670982361, 0.35327184200286865, 0.2700076401233673, 0.7241113781929016, 0.9865313172340393, 0.7899948358535767, 0.20608560740947723, 0.9624640941619873, 0.9577749371528625, 0.9514678716659546, 0.9956664443016052, 0.9849904179573059, 0.9466903209686279, 0.9265779852867126, 0.9623416662216187, 0.9795404672622681, 0.9959409832954407, 0.9953261613845825, 0.9669890403747559, 0.983171820640564, 0.96985924243927, 0.9832743406295776, 0.9789456725120544, 0.9796222448348999, 0.8069326877593994, 0.179318368434906, 0.9623462557792664, 0.9564065933227539, 0.9428080320358276, 0.24981679022312164, 0.18736259639263153, 0.5620877742767334, 0.9498891234397888, 0.9457520246505737, 0.21536344289779663, 0.1794695258140564, 0.6101964116096497, 0.9740815758705139, 0.9601635336875916, 0.9575586915016174, 0.9869390726089478, 0.9635006785392761, 0.9906726479530334, 0.9768137335777283, 0.7883980870246887, 0.20439951121807098, 0.6336908340454102, 0.34852996468544006, 0.3420579731464386, 0.6530197858810425, 0.9914008975028992, 0.21119044721126556, 0.7844216227531433, 0.9935272336006165, 0.9827386736869812, 0.9546290636062622, 0.17504191398620605, 0.5032455325126648, 0.32820358872413635, 0.9674515128135681, 0.9445174336433411, 0.9650440216064453, 0.9488409757614136, 0.714533805847168, 0.27606987953186035, 0.18412086367607117, 0.282318651676178, 0.5339505076408386, 0.9818330407142639, 0.1913575381040573, 0.803701639175415, 0.9669798612594604, 0.9257602095603943, 0.8621564507484436, 0.0957951620221138, 0.7182819843292236, 0.2394273281097412, 0.9457598328590393, 0.9836375117301941, 0.9855721592903137, 0.97617107629776, 0.9719594717025757, 0.9708845615386963, 0.38562270998954773, 0.6105692982673645, 0.9677985310554504, 0.2808990776538849, 0.4681651294231415, 0.249688059091568, 0.9669357538223267, 0.9853593707084656, 0.2193073332309723, 0.779759407043457, 0.9788670539855957, 0.9892645478248596, 0.7380098700523376, 0.25092336535453796, 0.9925890564918518, 0.9356786608695984, 0.16636641323566437, 0.8318320512771606], \"Term\": [\"absolutely\", \"account\", \"across\", \"across\", \"address\", \"advice\", \"affair\", \"afterwards\", \"alone\", \"already\", \"already\", \"always\", \"always\", \"among\", \"among\", \"another\", \"another\", \"answered\", \"anyone\", \"anything\", \"appeared\", \"arthur\", \"asked\", \"baker\", \"banker\", \"beech\", \"behind\", \"behind\", \"believe\", \"beside\", \"black\", \"breakfast\", \"bright\", \"brought\", \"brought\", \"business\", \"caught\", \"cause\", \"certainly\", \"chair\", \"chair\", \"chair\", \"chamber\", \"chance\", \"change\", \"character\", \"child\", \"clair\", \"clear\", \"clock\", \"clock\", \"close\", \"colonel\", \"coming\", \"companion\", \"company\", \"copper\", \"corner\", \"coronet\", \"coronet\", \"country\", \"course\", \"course\", \"cried\", \"crime\", \"danger\", \"daughter\", \"death\", \"direction\", \"doubt\", \"doubt\", \"doubt\", \"drawn\", \"dreadful\", \"dress\", \"dressing\", \"drove\", \"either\", \"enough\", \"entered\", \"entered\", \"entirely\", \"evening\", \"every\", \"every\", \"every\", \"everything\", \"experience\", \"extraordinary\", \"family\", \"fancy\", \"father\", \"father\", \"feature\", \"fellow\", \"fellow\", \"figure\", \"finally\", \"finger\", \"first\", \"floor\", \"followed\", \"found\", \"found\", \"frank\", \"fresh\", \"friend\", \"friend\", \"friend\", \"friend\", \"frightened\", \"front\", \"front\", \"front\", \"gentleman\", \"george\", \"glanced\", \"glancing\", \"glass\", \"going\", \"goose\", \"happened\", \"happy\", \"hardly\", \"heard\", \"heard\", \"heard\", \"heard\", \"heart\", \"holder\", \"holmes\", \"house\", \"house\", \"however\", \"however\", \"however\", \"however\", \"however\", \"however\", \"hunter\", \"hunter\", \"hunter\", \"hurried\", \"husband\", \"husband\", \"imagine\", \"important\", \"indeed\", \"indeed\", \"indeed\", \"inspector\", \"known\", \"least\", \"leave\", \"leave\", \"leave\", \"lestrade\", \"letter\", \"letter\", \"light\", \"light\", \"listened\", \"little\", \"little\", \"little\", \"little\", \"locked\", \"london\", \"looked\", \"manner\", \"married\", \"matter\", \"matter\", \"matter\", \"might\", \"might\", \"missing\", \"money\", \"money\", \"morning\", \"morning\", \"morning\", \"morrow\", \"neither\", \"never\", \"neville\", \"night\", \"nothing\", \"observe\", \"obvious\", \"occurred\", \"office\", \"opened\", \"opened\", \"opinion\", \"order\", \"paper\", \"paper\", \"paper\", \"passage\", \"passed\", \"passed\", \"perhaps\", \"place\", \"point\", \"point\", \"police\", \"police\", \"possible\", \"pound\", \"present\", \"problem\", \"public\", \"quick\", \"quiet\", \"quite\", \"quite\", \"rather\", \"rather\", \"rather\", \"rather\", \"reached\", \"ready\", \"really\", \"really\", \"reason\", \"remarked\", \"remember\", \"result\", \"return\", \"returned\", \"returned\", \"right\", \"right\", \"round\", \"rucastle\", \"rucastle\", \"rushed\", \"second\", \"secret\", \"seemed\", \"seems\", \"serious\", \"servant\", \"seven\", \"several\", \"shall\", \"sherlock\", \"shoulder\", \"showed\", \"shown\", \"sight\", \"silence\", \"silent\", \"since\", \"since\", \"sister\", \"sitting\", \"slowly\", \"small\", \"small\", \"small\", \"smiling\", \"someone\", \"something\", \"something\", \"something\", \"sound\", \"speak\", \"spoke\", \"sprang\", \"stair\", \"standing\", \"station\", \"still\", \"still\", \"stone\", \"stone\", \"stood\", \"stood\", \"story\", \"street\", \"street\", \"strong\", \"struck\", \"surprised\", \"table\", \"table\", \"table\", \"taken\", \"taking\", \"thank\", \"theory\", \"thing\", \"thing\", \"think\", \"think\", \"think\", \"though\", \"thought\", \"thought\", \"threw\", \"thumb\", \"together\", \"together\", \"toller\", \"toller\", \"towards\", \"train\", \"trust\", \"turned\", \"turning\", \"understand\", \"waiting\", \"waiting\", \"walked\", \"watson\", \"watson\", \"watson\", \"wedding\", \"whatever\", \"whether\", \"whether\", \"whole\", \"window\", \"without\", \"without\", \"woman\", \"wooden\", \"young\", \"young\"]}, \"R\": 30, \"lambda.step\": 0.01, \"plot.opts\": {\"xlab\": \"PC1\", \"ylab\": \"PC2\"}, \"topic.order\": [1, 2, 3, 4, 5, 6]};\n",
       "\n",
       "function LDAvis_load_lib(url, callback){\n",
       "  var s = document.createElement('script');\n",
       "  s.src = url;\n",
       "  s.async = true;\n",
       "  s.onreadystatechange = s.onload = callback;\n",
       "  s.onerror = function(){console.warn(\"failed to load library \" + url);};\n",
       "  document.getElementsByTagName(\"head\")[0].appendChild(s);\n",
       "}\n",
       "\n",
       "if(typeof(LDAvis) !== \"undefined\"){\n",
       "   // already loaded: just create the visualization\n",
       "   !function(LDAvis){\n",
       "       new LDAvis(\"#\" + \"ldavis_el522044722270880333747728\", ldavis_el522044722270880333747728_data);\n",
       "   }(LDAvis);\n",
       "}else if(typeof define === \"function\" && define.amd){\n",
       "   // require.js is available: use it to load d3/LDAvis\n",
       "   require.config({paths: {d3: \"https://cdnjs.cloudflare.com/ajax/libs/d3/3.5.5/d3.min\"}});\n",
       "   require([\"d3\"], function(d3){\n",
       "      window.d3 = d3;\n",
       "      LDAvis_load_lib(\"https://cdn.rawgit.com/bmabey/pyLDAvis/files/ldavis.v1.0.0.js\", function(){\n",
       "        new LDAvis(\"#\" + \"ldavis_el522044722270880333747728\", ldavis_el522044722270880333747728_data);\n",
       "      });\n",
       "    });\n",
       "}else{\n",
       "    // require.js not available: dynamically load d3 & LDAvis\n",
       "    LDAvis_load_lib(\"https://cdnjs.cloudflare.com/ajax/libs/d3/3.5.5/d3.min.js\", function(){\n",
       "         LDAvis_load_lib(\"https://cdn.rawgit.com/bmabey/pyLDAvis/files/ldavis.v1.0.0.js\", function(){\n",
       "                 new LDAvis(\"#\" + \"ldavis_el522044722270880333747728\", ldavis_el522044722270880333747728_data);\n",
       "            })\n",
       "         });\n",
       "}\n",
       "</script>"
      ],
      "text/plain": [
       "<IPython.core.display.HTML object>"
      ]
     },
     "execution_count": 97,
     "metadata": {},
     "output_type": "execute_result"
    }
   ],
   "source": [
    "pyLDAvis.display(lda_display)"
   ]
  },
  {
   "cell_type": "code",
   "execution_count": null,
   "metadata": {},
   "outputs": [],
   "source": []
  }
 ],
 "metadata": {
  "kernelspec": {
   "display_name": "Python 3",
   "language": "python",
   "name": "python3"
  },
  "language_info": {
   "codemirror_mode": {
    "name": "ipython",
    "version": 3
   },
   "file_extension": ".py",
   "mimetype": "text/x-python",
   "name": "python",
   "nbconvert_exporter": "python",
   "pygments_lexer": "ipython3",
   "version": "3.6.4"
  }
 },
 "nbformat": 4,
 "nbformat_minor": 1
}
