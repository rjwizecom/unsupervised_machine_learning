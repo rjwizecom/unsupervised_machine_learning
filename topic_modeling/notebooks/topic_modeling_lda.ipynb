{
 "cells": [
  {
   "cell_type": "markdown",
   "metadata": {},
   "source": [
    "# Topic Modeling\n",
    "\n",
    "\n",
    "## Table of contents\n",
    "\n",
    "- [Introduction](#Introduction)\n",
    "\n",
    "- [Required libraries](#Required-libraries)"
   ]
  },
  {
   "cell_type": "markdown",
   "metadata": {},
   "source": [
    "## Introduction\n",
    "\n",
    "[[go back to the top]](#Table-of-contents)\n",
    "\n",
    "In this notebook, I will use Python and its libraries for **topic modeling**. In topic modeling, statistical models are used to identify topics or categories in a document or a set of documents. I will use one specific method called **Latent Dirichlet Allocation (LDA)**. The algorithm can be summarized as follows:\n",
    "- First we select - without previous knowledge regarding what the topics actually are - a fixed number of topics $T$ \n",
    "- We then randomly assign each word to a topic\n",
    "- For each document $d$, word $w$ and topic $t$ we calculate the probability $P(t\\,|\\,w,d)$ that the word $w$ of document $d$ corresponds to topic $t$\n",
    "- We then reassign each word $w$ to some topic based on $P(t\\,|\\,w,d)$ and repeat the process until we find the optimal assignment of words to topics"
   ]
  },
  {
   "cell_type": "markdown",
   "metadata": {},
   "source": [
    "## Libraries  \n",
    "\n",
    "[[go back to the top]](#Table-of-contents)\n",
    "\n",
    "This notebook uses the following packages:\n",
    "\n",
    "- `spacy`\n",
    "- `nltk`\n",
    "- `random`\n",
    "- `gensim`\n",
    "- `pickle`\n",
    "- `pandas`\n",
    "- `sklearn`"
   ]
  },
  {
   "cell_type": "code",
   "execution_count": 1,
   "metadata": {},
   "outputs": [],
   "source": [
    "import pandas as pd\n",
    "from IPython.core.interactiveshell import InteractiveShell\n",
    "InteractiveShell.ast_node_interactivity = \"all\" # see the value of multiple statements at once.\n",
    "pd.set_option('display.max_columns', None)\n",
    "pd.set_option('display.max_rows', None)"
   ]
  },
  {
   "cell_type": "markdown",
   "metadata": {},
   "source": [
    "## The problem domain\n",
    "\n",
    "[[go back to the top]](#Table-of-contents)\n",
    "\n",
    "In this project I apply LDA to labels on research papers. The dataset is a subset of [this](https://github.com/susanli2016/Machine-Learning-with-Python/blob/master/dataset.csv) data set."
   ]
  },
  {
   "cell_type": "markdown",
   "metadata": {},
   "source": [
    "## Using `spaCy`\n",
    "\n",
    "[[go back to the top]](#Table-of-contents)\n",
    "\n",
    "In this projects I will use the `spaCy` library (see this [link](https://github.com/skipgram/modern-nlp-in python/blob/master/executable/Modern_NLP_in_Python.ipynb)). \n",
    "\n",
    "`spaCy` is:\n",
    "\n",
    "> An industrial-strength natural language processing (NLP) library for Python. spaCy's goal is to take recent advancements in natural language processing out of research papers and put them in the hands of users to build production software."
   ]
  },
  {
   "cell_type": "code",
   "execution_count": 2,
   "metadata": {},
   "outputs": [
    {
     "data": {
      "text/plain": [
       "<spacy.lang.en.English at 0x111f27748>"
      ]
     },
     "execution_count": 2,
     "metadata": {},
     "output_type": "execute_result"
    }
   ],
   "source": [
    "import spacy\n",
    "spacy.load('en')\n",
    "from spacy.lang.en import English\n",
    "parser = English()"
   ]
  },
  {
   "cell_type": "markdown",
   "metadata": {},
   "source": [
    "## Importing the documents\n",
    "\n",
    "[[go back to the top]](#Table-of-contents)"
   ]
  },
  {
   "cell_type": "code",
   "execution_count": 3,
   "metadata": {
    "scrolled": false
   },
   "outputs": [
    {
     "data": {
      "text/plain": [
       "(100, 1)"
      ]
     },
     "execution_count": 3,
     "metadata": {},
     "output_type": "execute_result"
    },
    {
     "data": {
      "text/html": [
       "<div>\n",
       "<style scoped>\n",
       "    .dataframe tbody tr th:only-of-type {\n",
       "        vertical-align: middle;\n",
       "    }\n",
       "\n",
       "    .dataframe tbody tr th {\n",
       "        vertical-align: top;\n",
       "    }\n",
       "\n",
       "    .dataframe thead th {\n",
       "        text-align: right;\n",
       "    }\n",
       "</style>\n",
       "<table border=\"1\" class=\"dataframe\">\n",
       "  <thead>\n",
       "    <tr style=\"text-align: right;\">\n",
       "      <th></th>\n",
       "      <th>titles</th>\n",
       "    </tr>\n",
       "  </thead>\n",
       "  <tbody>\n",
       "    <tr>\n",
       "      <th>0</th>\n",
       "      <td>A novel digitally controlled low noise ring os...</td>\n",
       "    </tr>\n",
       "    <tr>\n",
       "      <th>1</th>\n",
       "      <td>A motion compensation system with a high effic...</td>\n",
       "    </tr>\n",
       "    <tr>\n",
       "      <th>2</th>\n",
       "      <td>A reconfigurable MAC architecture implemented ...</td>\n",
       "    </tr>\n",
       "    <tr>\n",
       "      <th>3</th>\n",
       "      <td>Why is 3-D interaction so hard and what can we...</td>\n",
       "    </tr>\n",
       "    <tr>\n",
       "      <th>4</th>\n",
       "      <td>Automatic colorization of grayscale images usi...</td>\n",
       "    </tr>\n",
       "  </tbody>\n",
       "</table>\n",
       "</div>"
      ],
      "text/plain": [
       "                                              titles\n",
       "0  A novel digitally controlled low noise ring os...\n",
       "1  A motion compensation system with a high effic...\n",
       "2  A reconfigurable MAC architecture implemented ...\n",
       "3  Why is 3-D interaction so hard and what can we...\n",
       "4  Automatic colorization of grayscale images usi..."
      ]
     },
     "execution_count": 3,
     "metadata": {},
     "output_type": "execute_result"
    }
   ],
   "source": [
    "df = pd.read_csv('articles.csv',header=None)\n",
    "df.columns = ['titles']\n",
    "df.shape\n",
    "df.head()"
   ]
  },
  {
   "cell_type": "markdown",
   "metadata": {},
   "source": [
    "## List of documents\n",
    "\n",
    "[[go back to the top]](#Table-of-contents)\n",
    "\n",
    "From `df` I will build a list `doc_set` containing the row entries:"
   ]
  },
  {
   "cell_type": "code",
   "execution_count": 4,
   "metadata": {},
   "outputs": [
    {
     "name": "stdout",
     "output_type": "stream",
     "text": [
      "['A novel digitally controlled low noise ring oscillator.', 'A motion compensation system with a high efficiency reference frame pre-fetch scheme for QFHD H.264/AVC decoding.', 'A reconfigurable MAC architecture implemented with mixed-Vt standard cell library.', 'Why is 3-D interaction so hard and what can we really do about it?', 'Automatic colorization of grayscale images using multiple images on the web.', 'Automatic Profile Generation in eRACE.', 'A QoS aware multicore hash scheduler for network applications.', 'Incremental Bloom Filters.', 'Hardware Organization for Nonnumeric Processing', 'Retrieval of motion capture data based on short-term feature extraction.']\n"
     ]
    }
   ],
   "source": [
    "doc_set = df.values.T.tolist()[0]\n",
    "print(doc_set[0:10])"
   ]
  },
  {
   "cell_type": "markdown",
   "metadata": {},
   "source": [
    "## Cleaning the text\n",
    "\n",
    "[[go back to the top]](#Table-of-contents)\n",
    "\n",
    "Before applying natural language processing tools to our problem, I will provide a quick review of some basic procedures using Python. We first import `nltk` and the necessary classes for lemmatization and stemming:"
   ]
  },
  {
   "cell_type": "code",
   "execution_count": 5,
   "metadata": {},
   "outputs": [],
   "source": [
    "import nltk\n",
    "from nltk.stem import WordNetLemmatizer\n",
    "from nltk.stem.porter import PorterStemmer"
   ]
  },
  {
   "cell_type": "markdown",
   "metadata": {},
   "source": [
    "We then create objects of the classes `PorterStemmer` and `WordNetLemmatizer`:"
   ]
  },
  {
   "cell_type": "code",
   "execution_count": 6,
   "metadata": {},
   "outputs": [],
   "source": [
    "stemmer = PorterStemmer()\n",
    "lemmatizer = WordNetLemmatizer()"
   ]
  },
  {
   "cell_type": "markdown",
   "metadata": {},
   "source": [
    "To use lemmatization and/or stemming in a given string text we must first tokenize it. The code below matches word characters until it reaches a non-word character, like a space. "
   ]
  },
  {
   "cell_type": "code",
   "execution_count": 7,
   "metadata": {},
   "outputs": [],
   "source": [
    "from nltk.tokenize import RegexpTokenizer\n",
    "tokenizer = RegexpTokenizer(r'\\w+')"
   ]
  },
  {
   "cell_type": "markdown",
   "metadata": {},
   "source": [
    "### Build a list of lists of tokens "
   ]
  },
  {
   "cell_type": "code",
   "execution_count": 8,
   "metadata": {},
   "outputs": [
    {
     "name": "stdout",
     "output_type": "stream",
     "text": [
      "[['a', 'novel', 'digitally', 'controlled', 'low', 'noise', 'ring', 'oscillator'], ['a', 'motion', 'compensation', 'system', 'with', 'a', 'high', 'efficiency', 'reference', 'frame', 'pre', 'fetch', 'scheme', 'for', 'qfhd', 'h', '264', 'avc', 'decoding'], ['a', 'reconfigurable', 'mac', 'architecture', 'implemented', 'with', 'mixed', 'vt', 'standard', 'cell', 'library']]\n"
     ]
    }
   ],
   "source": [
    "tokenined_docs = []\n",
    "for doc in doc_set:\n",
    "    tokens = tokenizer.tokenize(doc.lower())\n",
    "    tokenined_docs.append(tokens)\n",
    "    \n",
    "print(tokenined_docs[0:3])"
   ]
  },
  {
   "cell_type": "markdown",
   "metadata": {},
   "source": [
    "### Apply lemmatizing"
   ]
  },
  {
   "cell_type": "code",
   "execution_count": 9,
   "metadata": {},
   "outputs": [
    {
     "name": "stdout",
     "output_type": "stream",
     "text": [
      "[['a', 'novel', 'digitally', 'controlled', 'low', 'noise', 'ring', 'oscillator'], ['a', 'motion', 'compensation', 'system', 'with', 'a', 'high', 'efficiency', 'reference', 'frame', 'pre', 'fetch', 'scheme', 'for', 'qfhd', 'h', '264', 'avc', 'decoding'], ['a', 'reconfigurable', 'mac', 'architecture', 'implemented', 'with', 'mixed', 'vt', 'standard', 'cell', 'library']]\n"
     ]
    }
   ],
   "source": [
    "lemmatized_tokens = []\n",
    "for lst in tokenined_docs:\n",
    "    tokens_lemma = [lemmatizer.lemmatize(i) for i in lst]\n",
    "    lemmatized_tokens.append(tokens_lemma)\n",
    "    \n",
    "print(lemmatized_tokens[0:3])"
   ]
  },
  {
   "cell_type": "markdown",
   "metadata": {},
   "source": [
    "### Dropping stopwords and words with less than $n$ letters"
   ]
  },
  {
   "cell_type": "code",
   "execution_count": 10,
   "metadata": {},
   "outputs": [],
   "source": [
    "from stop_words import get_stop_words\n",
    "en_stop_words = get_stop_words('en')"
   ]
  },
  {
   "cell_type": "code",
   "execution_count": 11,
   "metadata": {},
   "outputs": [
    {
     "name": "stdout",
     "output_type": "stream",
     "text": [
      "[['novel', 'digitally', 'controlled', 'noise', 'oscillator'], ['motion', 'compensation', 'system', 'efficiency', 'reference', 'frame', 'fetch', 'scheme', 'decoding'], ['reconfigurable', 'architecture', 'implemented', 'mixed', 'standard', 'library']]\n"
     ]
    }
   ],
   "source": [
    "n=4\n",
    "tokens = []\n",
    "for lst in lemmatized_tokens:\n",
    "    tokens.append([i for i in lst if not i in en_stop_words if len(i) > n])\n",
    "\n",
    "print(tokens[0:3])"
   ]
  },
  {
   "cell_type": "markdown",
   "metadata": {},
   "source": [
    "## Document-term matrix\n",
    "\n",
    "[[go back to the top]](#Table-of-contents)\n",
    "\n",
    "I will now generate an LDA model and for that, the frequency that each term occurs within each document needs to be understood.\n",
    "\n",
    "A **document-term matrix** is constructed to do that. It contains a corpus of $n$ documents and a vocabulary of $m$ words. Each cell $ij$ counts the frequency of the word $j$ in the document $i$.\n",
    "\n",
    "|               | word_1 | word_2 | ... | word_m |\n",
    "| ------------- |:------:| ----- :|----- :|----- :|\n",
    "| doc_1         | 1      | 3   | ... |2\n",
    "| doc_2         | 2      |   3   |...|3\n",
    "| ...           | ...    |    2   |...|1\n",
    "| doc_n         | 1      |    1   |...|1\n",
    "\n",
    "What LDA does is to convert this matrix into two matrices with lower dimensions namely:\n",
    "\n",
    "|               | topic_1 | topic_2 | ... | topic_T |\n",
    "| ------------- |:------:| ----- :|----- :|----- :|\n",
    "| doc_1         | 0      | 1   | ... |1\n",
    "| doc_2         | 0      |   1   |...|1\n",
    "| ...           | ...    |    ...   |...|1\n",
    "| doc_n         | 1      |    0   |...|0\n",
    "\n",
    "and\n",
    "\n",
    "|               | word_1 | word_2 | ... | word_m |\n",
    "| ------------- |:------:| ----- :|----- :|----- :|\n",
    "| topic_1         | 1      | 0   | ... |1\n",
    "| topic_2         | 1      |   0   |...|1\n",
    "| ...           | ...    |    ...   |...|1\n",
    "| topic_T         | 1      |    1   |...|1\n",
    "\n",
    "\n"
   ]
  },
  {
   "cell_type": "markdown",
   "metadata": {},
   "source": [
    "## Tokens into dictionary\n",
    "\n",
    "[[go back to the top]](#Table-of-contents)"
   ]
  },
  {
   "cell_type": "code",
   "execution_count": 12,
   "metadata": {},
   "outputs": [],
   "source": [
    "from gensim import corpora, models\n",
    "\n",
    "dictionary = corpora.Dictionary(tokens)"
   ]
  },
  {
   "cell_type": "markdown",
   "metadata": {},
   "source": [
    "## Tokenize documents into document-term matrix\n",
    "\n",
    "[[go back to the top]](#Table-of-contents)"
   ]
  },
  {
   "cell_type": "code",
   "execution_count": 32,
   "metadata": {},
   "outputs": [],
   "source": [
    "corpus = [dictionary.doc2bow(text) for text in tokens]\n",
    "\n",
    "import pickle\n",
    "pickle.dump(corpus, open('corpus.pkl', 'wb'))\n",
    "dictionary.save('dictionary.gensim')"
   ]
  },
  {
   "cell_type": "code",
   "execution_count": 16,
   "metadata": {},
   "outputs": [
    {
     "data": {
      "text/plain": [
       "[(0, 1), (1, 1), (2, 1), (3, 1), (4, 1)]"
      ]
     },
     "execution_count": 16,
     "metadata": {},
     "output_type": "execute_result"
    }
   ],
   "source": [
    "corpus[0]"
   ]
  },
  {
   "cell_type": "markdown",
   "metadata": {},
   "source": [
    "## LDA model"
   ]
  },
  {
   "cell_type": "code",
   "execution_count": 28,
   "metadata": {},
   "outputs": [],
   "source": [
    "import gensim\n",
    "ldamodel_3 = gensim.models.ldamodel.LdaModel(corpus, num_topics=3, id2word = dictionary, passes=20)\n",
    "ldamodel_3.save('model3.gensim')\n",
    "ldamodel_4 = gensim.models.ldamodel.LdaModel(corpus, num_topics=3, id2word = dictionary, passes=20)\n",
    "ldamodel_4.save('model4.gensim')"
   ]
  },
  {
   "cell_type": "code",
   "execution_count": 29,
   "metadata": {},
   "outputs": [
    {
     "name": "stdout",
     "output_type": "stream",
     "text": [
      "(0, '0.017*\"system\" + 0.017*\"image\" + 0.017*\"based\"') \n",
      "\n",
      "(1, '0.035*\"network\" + 0.015*\"multi\" + 0.012*\"based\"') \n",
      "\n",
      "(2, '0.016*\"based\" + 0.013*\"using\" + 0.012*\"system\"') \n",
      "\n"
     ]
    }
   ],
   "source": [
    "for el in ldamodel_3.print_topics(num_topics=3, num_words=3):\n",
    "    print(el,'\\n')"
   ]
  },
  {
   "cell_type": "code",
   "execution_count": 30,
   "metadata": {},
   "outputs": [
    {
     "name": "stdout",
     "output_type": "stream",
     "text": [
      "(0, '0.028*\"based\" + 0.023*\"system\" + 0.015*\"database\"') \n",
      "\n",
      "(1, '0.015*\"search\" + 0.012*\"multi\" + 0.012*\"analysis\"') \n",
      "\n",
      "(2, '0.025*\"network\" + 0.016*\"image\" + 0.013*\"using\"') \n",
      "\n"
     ]
    }
   ],
   "source": [
    "for el in ldamodel_4.print_topics(num_topics=3, num_words=3):\n",
    "    print(el,'\\n')"
   ]
  },
  {
   "cell_type": "code",
   "execution_count": 33,
   "metadata": {},
   "outputs": [],
   "source": [
    "dictionary = gensim.corpora.Dictionary.load('dictionary.gensim')"
   ]
  },
  {
   "cell_type": "code",
   "execution_count": 34,
   "metadata": {},
   "outputs": [],
   "source": [
    "corpus = pickle.load(open('corpus.pkl', 'rb'))"
   ]
  },
  {
   "cell_type": "code",
   "execution_count": 35,
   "metadata": {},
   "outputs": [],
   "source": [
    "lda = gensim.models.ldamodel.LdaModel.load('model3.gensim')"
   ]
  },
  {
   "cell_type": "code",
   "execution_count": 36,
   "metadata": {},
   "outputs": [],
   "source": [
    "import pyLDAvis.gensim"
   ]
  },
  {
   "cell_type": "code",
   "execution_count": 37,
   "metadata": {},
   "outputs": [
    {
     "name": "stderr",
     "output_type": "stream",
     "text": [
      "/Users/marcotavora/anaconda3/lib/python3.6/site-packages/pyLDAvis/_prepare.py:387: DeprecationWarning: \n",
      ".ix is deprecated. Please use\n",
      ".loc for label based indexing or\n",
      ".iloc for positional indexing\n",
      "\n",
      "See the documentation here:\n",
      "http://pandas.pydata.org/pandas-docs/stable/indexing.html#ix-indexer-is-deprecated\n",
      "  topic_term_dists = topic_term_dists.ix[topic_order]\n"
     ]
    }
   ],
   "source": [
    "lda_display = pyLDAvis.gensim.prepare(lda, corpus, dictionary, sort_topics=False)"
   ]
  },
  {
   "cell_type": "code",
   "execution_count": 38,
   "metadata": {},
   "outputs": [
    {
     "data": {
      "text/html": [
       "\n",
       "<link rel=\"stylesheet\" type=\"text/css\" href=\"https://cdn.rawgit.com/bmabey/pyLDAvis/files/ldavis.v1.0.0.css\">\n",
       "\n",
       "\n",
       "<div id=\"ldavis_el737281125688357927356255792\"></div>\n",
       "<script type=\"text/javascript\">\n",
       "\n",
       "var ldavis_el737281125688357927356255792_data = {\"mdsDat\": {\"Freq\": [39.641883850097656, 36.84407043457031, 23.51404571533203], \"cluster\": [1, 1, 1], \"topics\": [1, 2, 3], \"x\": [0.08291146183134245, -0.08674761978458938, 0.003836157953246907], \"y\": [-0.04459819309411344, -0.03893208871833084, 0.08353028181244426]}, \"tinfo\": {\"Category\": [\"Default\", \"Default\", \"Default\", \"Default\", \"Default\", \"Default\", \"Default\", \"Default\", \"Default\", \"Default\", \"Default\", \"Default\", \"Default\", \"Default\", \"Default\", \"Default\", \"Default\", \"Default\", \"Default\", \"Default\", \"Default\", \"Default\", \"Default\", \"Default\", \"Default\", \"Default\", \"Default\", \"Default\", \"Default\", \"Default\", \"Topic1\", \"Topic1\", \"Topic1\", \"Topic1\", \"Topic1\", \"Topic1\", \"Topic1\", \"Topic1\", \"Topic1\", \"Topic1\", \"Topic1\", \"Topic1\", \"Topic1\", \"Topic1\", \"Topic1\", \"Topic1\", \"Topic1\", \"Topic1\", \"Topic1\", \"Topic1\", \"Topic1\", \"Topic1\", \"Topic1\", \"Topic1\", \"Topic1\", \"Topic1\", \"Topic1\", \"Topic1\", \"Topic1\", \"Topic1\", \"Topic1\", \"Topic1\", \"Topic1\", \"Topic1\", \"Topic1\", \"Topic1\", \"Topic1\", \"Topic1\", \"Topic1\", \"Topic1\", \"Topic1\", \"Topic1\", \"Topic1\", \"Topic1\", \"Topic2\", \"Topic2\", \"Topic2\", \"Topic2\", \"Topic2\", \"Topic2\", \"Topic2\", \"Topic2\", \"Topic2\", \"Topic2\", \"Topic2\", \"Topic2\", \"Topic2\", \"Topic2\", \"Topic2\", \"Topic2\", \"Topic2\", \"Topic2\", \"Topic2\", \"Topic2\", \"Topic2\", \"Topic2\", \"Topic2\", \"Topic2\", \"Topic2\", \"Topic2\", \"Topic2\", \"Topic2\", \"Topic2\", \"Topic2\", \"Topic2\", \"Topic2\", \"Topic2\", \"Topic2\", \"Topic2\", \"Topic2\", \"Topic2\", \"Topic2\", \"Topic2\", \"Topic2\", \"Topic2\", \"Topic2\", \"Topic2\", \"Topic2\", \"Topic2\", \"Topic2\", \"Topic2\", \"Topic2\", \"Topic2\", \"Topic2\", \"Topic3\", \"Topic3\", \"Topic3\", \"Topic3\", \"Topic3\", \"Topic3\", \"Topic3\", \"Topic3\", \"Topic3\", \"Topic3\", \"Topic3\", \"Topic3\", \"Topic3\", \"Topic3\", \"Topic3\", \"Topic3\", \"Topic3\", \"Topic3\", \"Topic3\", \"Topic3\", \"Topic3\", \"Topic3\", \"Topic3\", \"Topic3\", \"Topic3\", \"Topic3\", \"Topic3\", \"Topic3\", \"Topic3\", \"Topic3\", \"Topic3\", \"Topic3\", \"Topic3\", \"Topic3\", \"Topic3\", \"Topic3\", \"Topic3\", \"Topic3\", \"Topic3\", \"Topic3\", \"Topic3\", \"Topic3\", \"Topic3\", \"Topic3\", \"Topic3\", \"Topic3\", \"Topic3\", \"Topic3\", \"Topic3\", \"Topic3\", \"Topic3\"], \"Freq\": [9.0, 5.0, 4.0, 2.0, 1.0, 1.0, 1.0, 1.0, 1.0, 1.0, 2.0, 2.0, 3.0, 3.0, 2.0, 2.0, 2.0, 5.0, 1.0, 1.0, 1.0, 1.0, 1.0, 1.0, 1.0, 1.0, 1.0, 1.0, 1.0, 1.0, 2.0635273456573486, 1.4444648027420044, 1.4443998336791992, 1.444388508796692, 1.4443551301956177, 1.444352626800537, 1.444252848625183, 1.4442497491836548, 1.4442189931869507, 1.4442138671875, 1.44419527053833, 1.444169044494629, 1.4441651105880737, 1.4441066980361938, 1.4440921545028687, 1.4440535306930542, 1.4379633665084839, 2.6859333515167236, 3.927128553390503, 0.8253251314163208, 0.8253209590911865, 0.8253194093704224, 0.8252977728843689, 0.8252891898155212, 0.8252862691879272, 0.8252822160720825, 0.8252819180488586, 0.8252763152122498, 0.8251911401748657, 0.8251931667327881, 2.0701656341552734, 3.951585531234741, 1.4885262250900269, 1.4876397848129272, 1.4454153776168823, 1.4449151754379272, 1.4558515548706055, 1.452192783355713, 1.4489760398864746, 1.4409996271133423, 3.927042007446289, 2.0707459449768066, 1.9280576705932617, 1.4454818964004517, 1.424441933631897, 1.4243367910385132, 1.4243353605270386, 1.4243305921554565, 1.4242459535598755, 1.4238002300262451, 1.421095609664917, 3.2155280113220215, 7.425364017486572, 2.6627957820892334, 0.8138235211372375, 0.8138225674629211, 0.8138222098350525, 0.8138222098350525, 0.8138203620910645, 0.813811182975769, 0.8138108849525452, 0.8138107657432556, 0.8138100504875183, 0.8138098120689392, 0.8138096332550049, 0.8138096332550049, 0.813809335231781, 0.8138009309768677, 0.813801646232605, 0.8137995600700378, 0.8138012886047363, 0.8138011693954468, 0.8137992024421692, 0.8138006925582886, 1.4260917901992798, 1.424548864364624, 2.0554935932159424, 1.429918646812439, 1.4264672994613647, 1.4208389520645142, 1.4386225938796997, 1.4287028312683105, 2.6650328636169434, 1.3772761821746826, 1.3751215934753418, 1.4258190393447876, 0.9240763783454895, 0.8317617177963257, 0.8206562995910645, 0.8194179534912109, 0.8183797001838684, 0.8173924088478088, 0.8173564672470093, 0.8169082403182983, 1.2066679000854492, 1.2066588401794434, 1.2065832614898682, 1.2065513134002686, 1.206524133682251, 1.2061327695846558, 0.6894342303276062, 0.6894341707229614, 0.6894338726997375, 0.6894336938858032, 0.6894335150718689, 0.6894332766532898, 0.6894229054450989, 0.6894211769104004, 0.6894211173057556, 0.6894204616546631, 0.689415454864502, 0.6894150972366333, 0.6894150376319885, 0.689414918422699, 0.689414918422699, 0.6894147992134094, 0.6894147992134094, 0.6894126534461975, 0.689412534236908, 0.6893861889839172, 0.6893857717514038, 0.689385712146759, 0.689384937286377, 0.6893822550773621, 1.5748246908187866, 1.2321416139602661, 1.760778784751892, 1.2100119590759277, 2.2211413383483887, 1.6985628604888916, 1.2020480632781982, 0.7294986844062805, 0.7069404721260071, 0.6981387734413147, 0.7013505101203918, 0.6967609524726868, 0.694010853767395, 0.6948079466819763, 0.6941396594047546, 0.6916018724441528, 0.6915625333786011, 0.6914922595024109, 0.6904691457748413, 0.6901957392692566, 0.6895888447761536], \"Term\": [\"network\", \"image\", \"multi\", \"detection\", \"clustering\", \"sandy\", \"strategy\", \"efficiency\", \"tracking\", \"interaction\", \"video\", \"algorithm\", \"search\", \"design\", \"large\", \"model\", \"wireless\", \"using\", \"monothetic\", \"browsing\", \"result\", \"summarization\", \"hierarchical\", \"document\", \"reference\", \"compensation\", \"fetch\", \"frame\", \"faking\", \"characterizing\", \"large\", \"fractional\", \"delay\", \"topology\", \"adaptive\", \"feature\", \"retrieval\", \"bandwidth\", \"process\", \"interactive\", \"query\", \"digital\", \"efficient\", \"automaton\", \"point\", \"processing\", \"standard\", \"search\", \"image\", \"pixel\", \"processor\", \"employing\", \"adaptation\", \"hypermedia\", \"mechanism\", \"grained\", \"quality\", \"experience\", \"given\", \"transformer\", \"architecture\", \"system\", \"extraction\", \"content\", \"motion\", \"framework\", \"speed\", \"approach\", \"automatic\", \"attack\", \"based\", \"using\", \"network\", \"information\", \"optical\", \"application\", \"oscillator\", \"traffic\", \"novel\", \"augmented\", \"social\", \"multi\", \"network\", \"design\", \"current\", \"mobility\", \"underwater\", \"impact\", \"meandering\", \"improving\", \"radio\", \"compression\", \"impulse\", \"wideband\", \"ultra\", \"pulse\", \"coverage\", \"offset\", \"experiment\", \"rayleigh\", \"array\", \"reconfiguration\", \"fading\", \"configuration\", \"wireless\", \"model\", \"database\", \"surface\", \"sensor\", \"algorithm\", \"analysis\", \"complex\", \"based\", \"information\", \"using\", \"system\", \"receiver\", \"security\", \"server\", \"generation\", \"channel\", \"attack\", \"mobile\", \"cellular\", \"clustering\", \"sandy\", \"strategy\", \"efficiency\", \"tracking\", \"interaction\", \"monothetic\", \"browsing\", \"result\", \"summarization\", \"hierarchical\", \"document\", \"reference\", \"compensation\", \"fetch\", \"frame\", \"faking\", \"characterizing\", \"usind\", \"double\", \"twitter\", \"hurricane\", \"identifying\", \"transitive\", \"closure\", \"interference\", \"resonant\", \"transfer\", \"inductive\", \"coupled\", \"detection\", \"video\", \"using\", \"algorithm\", \"based\", \"system\", \"image\", \"information\", \"dynamic\", \"synthesis\", \"scheme\", \"power\", \"range\", \"mobile\", \"analysis\", \"towards\", \"decoding\", \"complex\", \"parallel\", \"function\", \"model\"], \"Total\": [9.0, 5.0, 4.0, 2.0, 1.0, 1.0, 1.0, 1.0, 1.0, 1.0, 2.0, 2.0, 3.0, 3.0, 2.0, 2.0, 2.0, 5.0, 1.0, 1.0, 1.0, 1.0, 1.0, 1.0, 1.0, 1.0, 1.0, 1.0, 1.0, 1.0, 2.4400851726531982, 1.8208521604537964, 1.8208485841751099, 1.8208411931991577, 1.8208314180374146, 1.8208457231521606, 1.8208290338516235, 1.820837140083313, 1.8208262920379639, 1.8208272457122803, 1.8208260536193848, 1.8208177089691162, 1.8208140134811401, 1.8208136558532715, 1.8208039999008179, 1.820807933807373, 1.8207131624221802, 3.577115058898926, 5.333330154418945, 1.2016035318374634, 1.2016032934188843, 1.2016032934188843, 1.2015987634658813, 1.2015973329544067, 1.2015968561172485, 1.2015962600708008, 1.2015962600708008, 1.2015951871871948, 1.20159113407135, 1.2015962600708008, 3.050821304321289, 7.075967788696289, 2.3454208374023438, 2.345262289047241, 2.3382785320281982, 2.3382017612457275, 2.4315969944000244, 2.431539535522461, 2.431504011154175, 2.4313902854919434, 8.813216209411621, 5.20664644241333, 9.729392051696777, 3.5522568225860596, 1.8036757707595825, 1.8036555051803589, 1.8036552667617798, 1.8036531209945679, 1.8036531209945679, 1.8036115169525146, 1.8031694889068604, 4.155514240264893, 9.729392051696777, 3.6439435482025146, 1.1930090188980103, 1.1930088996887207, 1.1930088996887207, 1.1930088996887207, 1.1930086612701416, 1.1930084228515625, 1.1930084228515625, 1.193008303642273, 1.1930084228515625, 1.1930084228515625, 1.193008303642273, 1.1930084228515625, 1.193008303642273, 1.1930060386657715, 1.1930084228515625, 1.1930058002471924, 1.1930084228515625, 1.1930084228515625, 1.1930058002471924, 1.193008542060852, 2.3211841583251953, 2.3209543228149414, 3.6524462699890137, 2.422757387161255, 2.422837018966675, 2.837615489959717, 2.939112901687622, 2.939774751663208, 8.813216209411621, 3.5522568225860596, 5.20664644241333, 7.075967788696289, 2.4298548698425293, 1.8119269609451294, 1.7113940715789795, 1.8120872974395752, 1.8121284246444702, 2.4313902854919434, 2.3284718990325928, 1.8121451139450073, 1.6168996095657349, 1.6169015169143677, 1.6169159412384033, 1.6169216632843018, 1.6169267892837524, 1.617000699043274, 1.0996617078781128, 1.0996617078781128, 1.0996618270874023, 1.0996618270874023, 1.0996618270874023, 1.0996618270874023, 1.0996639728546143, 1.0996642112731934, 1.0996642112731934, 1.0996642112731934, 1.0996651649475098, 1.0996654033660889, 1.0996652841567993, 1.0996652841567993, 1.0996654033660889, 1.0996654033660889, 1.0996654033660889, 1.099665641784668, 1.099665880203247, 1.09967041015625, 1.09967041015625, 1.0996705293655396, 1.099670648574829, 1.0996711254119873, 2.7799861431121826, 2.222963571548462, 5.20664644241333, 2.837615489959717, 8.813216209411621, 7.075967788696289, 5.333330154418945, 3.5522568225860596, 2.3263731002807617, 1.717193365097046, 2.327209949493408, 2.328258514404297, 1.7094976902008057, 2.3284718990325928, 2.939112901687622, 1.7184841632843018, 1.7099380493164062, 2.939774751663208, 1.7187095880508423, 1.7101895809173584, 2.3209543228149414], \"loglift\": [30.0, 29.0, 28.0, 27.0, 26.0, 25.0, 24.0, 23.0, 22.0, 21.0, 20.0, 19.0, 18.0, 17.0, 16.0, 15.0, 14.0, 13.0, 12.0, 11.0, 10.0, 9.0, 8.0, 7.0, 6.0, 5.0, 4.0, 3.0, 2.0, 1.0, 0.7577000260353088, 0.6937000155448914, 0.6937000155448914, 0.6937000155448914, 0.6937000155448914, 0.6935999989509583, 0.6935999989509583, 0.6935999989509583, 0.6935999989509583, 0.6935999989509583, 0.6934999823570251, 0.6934999823570251, 0.6934999823570251, 0.6934999823570251, 0.6934999823570251, 0.6934999823570251, 0.689300000667572, 0.6388000249862671, 0.6191999912261963, 0.5496000051498413, 0.5496000051498413, 0.5496000051498413, 0.5496000051498413, 0.5496000051498413, 0.5496000051498413, 0.5496000051498413, 0.5496000051498413, 0.5496000051498413, 0.5494999885559082, 0.5494999885559082, 0.5375000238418579, 0.3427000045776367, 0.4706000089645386, 0.4700999855995178, 0.44429999589920044, 0.4440000057220459, 0.4122999906539917, 0.4097999930381775, 0.4075999855995178, 0.40220001339912415, 0.1168999969959259, 0.0032999999821186066, -0.6934000253677368, 0.026100000366568565, 0.7623999714851379, 0.7623999714851379, 0.7623999714851379, 0.7623999714851379, 0.7623000144958496, 0.7620000243186951, 0.7603999972343445, 0.7419999837875366, 0.7282000184059143, 0.6848000288009644, 0.6159999966621399, 0.6159999966621399, 0.6159999966621399, 0.6159999966621399, 0.6159999966621399, 0.6159999966621399, 0.6159999966621399, 0.6159999966621399, 0.6159999966621399, 0.6159999966621399, 0.6159999966621399, 0.6159999966621399, 0.6159999966621399, 0.6159999966621399, 0.6159999966621399, 0.6159999966621399, 0.6159999966621399, 0.6159999966621399, 0.6159999966621399, 0.6159999966621399, 0.5113000273704529, 0.5103999972343445, 0.4235999882221222, 0.47119998931884766, 0.46869999170303345, 0.3068000078201294, 0.2840999960899353, 0.2768999934196472, -0.19760000705718994, 0.050999999046325684, -0.3328999876976013, -0.6035000085830688, 0.031700000166893005, 0.2198999971151352, 0.26350000500679016, 0.20479999482631683, 0.20350000262260437, -0.09160000085830688, -0.04839999973773956, 0.20170000195503235, 1.1548999547958374, 1.1548999547958374, 1.1548000574111938, 1.1548000574111938, 1.1548000574111938, 1.1543999910354614, 0.9807000160217285, 0.9807000160217285, 0.9807000160217285, 0.9807000160217285, 0.9807000160217285, 0.9807000160217285, 0.9807000160217285, 0.9807000160217285, 0.9807000160217285, 0.9807000160217285, 0.9807000160217285, 0.9807000160217285, 0.9807000160217285, 0.9807000160217285, 0.9807000160217285, 0.9807000160217285, 0.9807000160217285, 0.9807000160217285, 0.9807000160217285, 0.9805999994277954, 0.9805999994277954, 0.9805999994277954, 0.9805999994277954, 0.9805999994277954, 0.8792999982833862, 0.8575000166893005, 0.36340001225471497, 0.5952000021934509, 0.06930000334978104, 0.02070000022649765, -0.042399998754262924, -0.13539999723434448, 0.2565000057220459, 0.5475000143051147, 0.24819999933242798, 0.2410999983549118, 0.5461000204086304, 0.23819999396800995, 0.004399999976158142, 0.5374000072479248, 0.5422999858856201, 0.0003000000142492354, 0.5356000065803528, 0.5401999950408936, 0.23389999568462372], \"logprob\": [30.0, 29.0, 28.0, 27.0, 26.0, 25.0, 24.0, 23.0, 22.0, 21.0, 20.0, 19.0, 18.0, 17.0, 16.0, 15.0, 14.0, 13.0, 12.0, 11.0, 10.0, 9.0, 8.0, 7.0, 6.0, 5.0, 4.0, 3.0, 2.0, 1.0, -4.718500137329102, -5.075200080871582, -5.075200080871582, -5.075200080871582, -5.075200080871582, -5.075200080871582, -5.075300216674805, -5.075300216674805, -5.075300216674805, -5.075300216674805, -5.075399875640869, -5.075399875640869, -5.075399875640869, -5.075399875640869, -5.075399875640869, -5.075399875640869, -5.079699993133545, -4.454899787902832, -4.074999809265137, -5.634900093078613, -5.634900093078613, -5.634900093078613, -5.634900093078613, -5.634900093078613, -5.634900093078613, -5.634900093078613, -5.634900093078613, -5.634900093078613, -5.635000228881836, -5.635000228881836, -4.7153000831604, -4.06879997253418, -5.045100212097168, -5.0457000732421875, -5.07450008392334, -5.074900150299072, -5.067299842834473, -5.069799900054932, -5.072000026702881, -5.077600002288818, -4.074999809265137, -4.715000152587891, -4.786399841308594, -5.07450008392334, -5.015900135040283, -5.015999794006348, -5.015999794006348, -5.015999794006348, -5.01609992980957, -5.01639986038208, -5.0183000564575195, -4.201700210571289, -3.364799976348877, -4.3902997970581055, -5.575699806213379, -5.575699806213379, -5.575699806213379, -5.575699806213379, -5.575699806213379, -5.575699806213379, -5.575699806213379, -5.575699806213379, -5.575699806213379, -5.575699806213379, -5.575699806213379, -5.575699806213379, -5.575699806213379, -5.575799942016602, -5.575799942016602, -5.575799942016602, -5.575799942016602, -5.575799942016602, -5.575799942016602, -5.575799942016602, -5.014800071716309, -5.015900135040283, -4.649199962615967, -5.0121002197265625, -5.014500141143799, -5.018499851226807, -5.00600004196167, -5.012899875640869, -4.389500141143799, -5.049600124359131, -5.051199913024902, -5.014999866485596, -5.448699951171875, -5.553899765014648, -5.567399978637695, -5.568900108337402, -5.570099830627441, -5.571300029754639, -5.571400165557861, -5.571899890899658, -4.732800006866455, -4.732800006866455, -4.732800006866455, -4.732800006866455, -4.732900142669678, -4.7332000732421875, -5.292500019073486, -5.292500019073486, -5.292500019073486, -5.292500019073486, -5.292500019073486, -5.292500019073486, -5.292500019073486, -5.292500019073486, -5.292500019073486, -5.292500019073486, -5.292500019073486, -5.292500019073486, -5.292500019073486, -5.292500019073486, -5.292500019073486, -5.292500019073486, -5.292500019073486, -5.292500019073486, -5.292500019073486, -5.292600154876709, -5.292600154876709, -5.292600154876709, -5.292600154876709, -5.292600154876709, -4.4664998054504395, -4.711900234222412, -4.354899883270264, -4.730000019073486, -4.122600078582764, -4.3907999992370605, -4.736599922180176, -5.236000061035156, -5.267399787902832, -5.28000020980835, -5.275400161743164, -5.281899929046631, -5.285900115966797, -5.2846999168396, -5.285699844360352, -5.289400100708008, -5.289400100708008, -5.2895002365112305, -5.290999889373779, -5.291399955749512, -5.292300224304199]}, \"token.table\": {\"Topic\": [1, 1, 2, 3, 1, 2, 3, 2, 1, 2, 1, 2, 2, 1, 2, 2, 1, 2, 1, 1, 1, 2, 3, 3, 1, 2, 1, 2, 3, 3, 3, 3, 1, 2, 3, 2, 2, 1, 3, 3, 2, 2, 1, 2, 2, 3, 1, 1, 2, 1, 3, 1, 3, 3, 1, 2, 3, 3, 1, 1, 1, 2, 1, 3, 2, 3, 1, 3, 1, 3, 1, 3, 2, 3, 1, 2, 1, 1, 3, 3, 1, 3, 1, 3, 2, 2, 2, 3, 1, 2, 3, 3, 1, 3, 1, 2, 1, 1, 2, 3, 2, 2, 3, 3, 1, 3, 2, 3, 1, 2, 2, 2, 2, 2, 1, 3, 1, 1, 1, 2, 3, 1, 1, 1, 2, 1, 1, 2, 2, 3, 2, 1, 2, 2, 3, 3, 3, 1, 3, 1, 2, 3, 1, 3, 1, 2, 1, 2, 2, 3, 2, 1, 2, 1, 3, 3, 1, 2, 1, 3, 1, 2, 3, 1, 1, 3, 3, 2, 3, 1, 3, 3, 2, 2, 3, 1, 2, 3, 2, 3, 2, 2, 3], \"Freq\": [0.8322245478630066, 0.549199640750885, 0.3524085581302643, 0.3524085581302643, 0.3402387201786041, 0.3402387201786041, 0.3402387201786041, 0.5544295907020569, 0.41126206517219543, 0.41126206517219543, 0.6555611491203308, 0.3277805745601654, 0.83821702003479, 0.4112873077392578, 0.4112873077392578, 0.5544431209564209, 0.41126808524131775, 0.41126808524131775, 0.5492050051689148, 0.5491979122161865, 0.45386382937431335, 0.3403978645801544, 0.22693191468715668, 0.9093706011772156, 0.5518321990966797, 0.5518321990966797, 0.5518372654914856, 0.5518372654914856, 0.9093675017356873, 0.9093671441078186, 0.6184675693511963, 0.9093685150146484, 0.34016212821006775, 0.34016212821006775, 0.34016212821006775, 0.8382171392440796, 0.8382169604301453, 0.4263915419578552, 0.4263915419578552, 0.90936279296875, 0.8382171392440796, 0.8382166028022766, 0.27378910779953003, 0.5475782155990601, 0.5848165154457092, 0.5848165154457092, 0.5491944551467896, 0.27442795038223267, 0.8232839107513428, 0.3597140312194824, 0.7194280624389648, 0.5492038130760193, 0.909370481967926, 0.9093676209449768, 0.4298536777496338, 0.4298536777496338, 0.4298536777496338, 0.618459165096283, 0.5492048859596252, 0.8322214484214783, 0.8322270512580872, 0.83821702003479, 0.4263627231121063, 0.4263627231121063, 0.8382188677787781, 0.9093677401542664, 0.5491953492164612, 0.9093685150146484, 0.5491933822631836, 0.9093685150146484, 0.4276790916919708, 0.4276790916919708, 0.5847305059432983, 0.5847305059432983, 0.5518497824668884, 0.5518497824668884, 0.8322298526763916, 0.8322262763977051, 0.909370481967926, 0.9093675017356873, 0.8322255611419678, 0.9093675017356873, 0.7500004768371582, 0.18750011920928955, 0.8382167220115662, 0.83821702003479, 0.83821702003479, 0.9093632102012634, 0.28151118755340576, 0.28151118755340576, 0.28151118755340576, 0.6184289455413818, 0.5492008924484253, 0.9093633890151978, 0.819643497467041, 0.8382169008255005, 0.8322258591651917, 0.42946621775627136, 0.42946621775627136, 0.42946621775627136, 0.8382167220115662, 0.43085724115371704, 0.43085724115371704, 0.9093706011772156, 0.4276650547981262, 0.4276650547981262, 0.7219322919845581, 0.24064409732818604, 0.20556269586086273, 0.719469428062439, 0.5544303059577942, 0.8382187485694885, 0.5544233918190002, 0.5544296503067017, 0.5818318724632263, 0.5818318724632263, 0.832221269607544, 0.5492079257965088, 0.4295055568218231, 0.4295055568218231, 0.4295055568218231, 0.5492011904716492, 0.5492067337036133, 0.8322214484214783, 0.83821702003479, 0.8322262763977051, 0.5492013096809387, 0.83821702003479, 0.5849671363830566, 0.5849671363830566, 0.8382188677787781, 0.4115472137928009, 0.4115472137928009, 0.83821702003479, 0.9093686938285828, 0.9093633890151978, 0.909370481967926, 0.5492003560066223, 0.618466854095459, 0.4296990931034088, 0.4296990931034088, 0.4296990931034088, 0.8386646509170532, 0.2795548737049103, 0.5518985986709595, 0.5518985986709595, 0.41273927688598633, 0.41273927688598633, 0.5843189358711243, 0.5843189358711243, 0.5545790195465088, 0.41125234961509705, 0.41125234961509705, 0.5492353439331055, 0.6184613108634949, 0.909370481967926, 0.41275283694267273, 0.41275283694267273, 0.5823456048965454, 0.5823456048965454, 0.5652936697006226, 0.14132341742515564, 0.2826468348503113, 0.549196720123291, 0.5819081664085388, 0.5819081664085388, 0.6184571981430054, 0.5544303059577942, 0.9093632698059082, 0.8322262763977051, 0.9093673229217529, 0.9093675017356873, 0.8382171392440796, 0.8382167220115662, 0.9093676209449768, 0.38412439823150635, 0.19206219911575317, 0.38412439823150635, 0.449849933385849, 0.449849933385849, 0.83821702003479, 0.43081459403038025, 0.43081459403038025], \"Term\": [\"adaptation\", \"adaptive\", \"algorithm\", \"algorithm\", \"analysis\", \"analysis\", \"analysis\", \"application\", \"approach\", \"approach\", \"architecture\", \"architecture\", \"array\", \"attack\", \"attack\", \"augmented\", \"automatic\", \"automatic\", \"automaton\", \"bandwidth\", \"based\", \"based\", \"based\", \"browsing\", \"cellular\", \"cellular\", \"channel\", \"channel\", \"characterizing\", \"closure\", \"clustering\", \"compensation\", \"complex\", \"complex\", \"complex\", \"compression\", \"configuration\", \"content\", \"content\", \"coupled\", \"coverage\", \"current\", \"database\", \"database\", \"decoding\", \"decoding\", \"delay\", \"design\", \"design\", \"detection\", \"detection\", \"digital\", \"document\", \"double\", \"dynamic\", \"dynamic\", \"dynamic\", \"efficiency\", \"efficient\", \"employing\", \"experience\", \"experiment\", \"extraction\", \"extraction\", \"fading\", \"faking\", \"feature\", \"fetch\", \"fractional\", \"frame\", \"framework\", \"framework\", \"function\", \"function\", \"generation\", \"generation\", \"given\", \"grained\", \"hierarchical\", \"hurricane\", \"hypermedia\", \"identifying\", \"image\", \"image\", \"impact\", \"improving\", \"impulse\", \"inductive\", \"information\", \"information\", \"information\", \"interaction\", \"interactive\", \"interference\", \"large\", \"meandering\", \"mechanism\", \"mobile\", \"mobile\", \"mobile\", \"mobility\", \"model\", \"model\", \"monothetic\", \"motion\", \"motion\", \"multi\", \"multi\", \"network\", \"network\", \"novel\", \"offset\", \"optical\", \"oscillator\", \"parallel\", \"parallel\", \"pixel\", \"point\", \"power\", \"power\", \"power\", \"process\", \"processing\", \"processor\", \"pulse\", \"quality\", \"query\", \"radio\", \"range\", \"range\", \"rayleigh\", \"receiver\", \"receiver\", \"reconfiguration\", \"reference\", \"resonant\", \"result\", \"retrieval\", \"sandy\", \"scheme\", \"scheme\", \"scheme\", \"search\", \"search\", \"security\", \"security\", \"sensor\", \"sensor\", \"server\", \"server\", \"social\", \"speed\", \"speed\", \"standard\", \"strategy\", \"summarization\", \"surface\", \"surface\", \"synthesis\", \"synthesis\", \"system\", \"system\", \"system\", \"topology\", \"towards\", \"towards\", \"tracking\", \"traffic\", \"transfer\", \"transformer\", \"transitive\", \"twitter\", \"ultra\", \"underwater\", \"usind\", \"using\", \"using\", \"using\", \"video\", \"video\", \"wideband\", \"wireless\", \"wireless\"]}, \"R\": 30, \"lambda.step\": 0.01, \"plot.opts\": {\"xlab\": \"PC1\", \"ylab\": \"PC2\"}, \"topic.order\": [1, 2, 3]};\n",
       "\n",
       "function LDAvis_load_lib(url, callback){\n",
       "  var s = document.createElement('script');\n",
       "  s.src = url;\n",
       "  s.async = true;\n",
       "  s.onreadystatechange = s.onload = callback;\n",
       "  s.onerror = function(){console.warn(\"failed to load library \" + url);};\n",
       "  document.getElementsByTagName(\"head\")[0].appendChild(s);\n",
       "}\n",
       "\n",
       "if(typeof(LDAvis) !== \"undefined\"){\n",
       "   // already loaded: just create the visualization\n",
       "   !function(LDAvis){\n",
       "       new LDAvis(\"#\" + \"ldavis_el737281125688357927356255792\", ldavis_el737281125688357927356255792_data);\n",
       "   }(LDAvis);\n",
       "}else if(typeof define === \"function\" && define.amd){\n",
       "   // require.js is available: use it to load d3/LDAvis\n",
       "   require.config({paths: {d3: \"https://cdnjs.cloudflare.com/ajax/libs/d3/3.5.5/d3.min\"}});\n",
       "   require([\"d3\"], function(d3){\n",
       "      window.d3 = d3;\n",
       "      LDAvis_load_lib(\"https://cdn.rawgit.com/bmabey/pyLDAvis/files/ldavis.v1.0.0.js\", function(){\n",
       "        new LDAvis(\"#\" + \"ldavis_el737281125688357927356255792\", ldavis_el737281125688357927356255792_data);\n",
       "      });\n",
       "    });\n",
       "}else{\n",
       "    // require.js not available: dynamically load d3 & LDAvis\n",
       "    LDAvis_load_lib(\"https://cdnjs.cloudflare.com/ajax/libs/d3/3.5.5/d3.min.js\", function(){\n",
       "         LDAvis_load_lib(\"https://cdn.rawgit.com/bmabey/pyLDAvis/files/ldavis.v1.0.0.js\", function(){\n",
       "                 new LDAvis(\"#\" + \"ldavis_el737281125688357927356255792\", ldavis_el737281125688357927356255792_data);\n",
       "            })\n",
       "         });\n",
       "}\n",
       "</script>"
      ],
      "text/plain": [
       "<IPython.core.display.HTML object>"
      ]
     },
     "execution_count": 38,
     "metadata": {},
     "output_type": "execute_result"
    }
   ],
   "source": [
    "pyLDAvis.display(lda_display)"
   ]
  },
  {
   "cell_type": "code",
   "execution_count": null,
   "metadata": {},
   "outputs": [],
   "source": []
  }
 ],
 "metadata": {
  "kernelspec": {
   "display_name": "Python 3",
   "language": "python",
   "name": "python3"
  },
  "language_info": {
   "codemirror_mode": {
    "name": "ipython",
    "version": 3
   },
   "file_extension": ".py",
   "mimetype": "text/x-python",
   "name": "python",
   "nbconvert_exporter": "python",
   "pygments_lexer": "ipython3",
   "version": "3.6.4"
  }
 },
 "nbformat": 4,
 "nbformat_minor": 1
}
