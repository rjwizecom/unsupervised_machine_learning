{
 "cells": [
  {
   "cell_type": "markdown",
   "metadata": {},
   "source": [
    "## Customer Segmentation\n",
    "\n",
    "In this project I will apply clustering algorithms to the dataset [Wholesale Customers Data Set](https://archive.ics.uci.edu/ml/datasets/Wholesale+customers) from the UCI Machine Learning Repository. \n",
    "\n",
    "The dataset contains customers' spending amounts of several product categories .\n",
    "\n",
    "The data dictionary is:\n",
    "\n",
    "- FRESH: annual spending (m.u.) on fresh products (Continuous); \n",
    "- MILK: annual spending (m.u.) on milk products (Continuous); \n",
    "- GROCERY: annual spending (m.u.)on grocery products (Continuous); \n",
    "- FROZEN: annual spending (m.u.)on frozen products (Continuous) \n",
    "- DETERGENTS_PAPER: annual spending (m.u.) on detergents and paper products (Continuous) \n",
    "- DELICATESSEN: annual spending (m.u.)on and delicatessen products (Continuous); \n",
    "- CHANNEL: customers' Channel - Horeca (Hotel/Restaurant/Cafe) or Retail channel (Nominal) \n",
    "- REGION: customers' Region -  Lisnon, Oporto or Other (Nominal) \n",
    "\n",
    "where m.u. stands for monetary units."
   ]
  },
  {
   "cell_type": "markdown",
   "metadata": {},
   "source": [
    "## Imports"
   ]
  },
  {
   "cell_type": "code",
   "execution_count": 1,
   "metadata": {},
   "outputs": [],
   "source": [
    "import numpy as np\n",
    "import pandas as pd\n",
    "import seaborn as sns\n",
    "import matplotlib as plt\n",
    "from IPython.display import display # Allows the use of display() for DataFrames\n",
    "%matplotlib inline\n",
    "pd.set_option('display.max_columns', None) # display all columns\n",
    "from IPython.core.interactiveshell import InteractiveShell\n",
    "InteractiveShell.ast_node_interactivity = \"all\" # so we can see the value of multiple statements at once."
   ]
  },
  {
   "cell_type": "code",
   "execution_count": 2,
   "metadata": {},
   "outputs": [
    {
     "data": {
      "text/html": [
       "<div>\n",
       "<style scoped>\n",
       "    .dataframe tbody tr th:only-of-type {\n",
       "        vertical-align: middle;\n",
       "    }\n",
       "\n",
       "    .dataframe tbody tr th {\n",
       "        vertical-align: top;\n",
       "    }\n",
       "\n",
       "    .dataframe thead th {\n",
       "        text-align: right;\n",
       "    }\n",
       "</style>\n",
       "<table border=\"1\" class=\"dataframe\">\n",
       "  <thead>\n",
       "    <tr style=\"text-align: right;\">\n",
       "      <th></th>\n",
       "      <th>Channel</th>\n",
       "      <th>Region</th>\n",
       "      <th>Fresh</th>\n",
       "      <th>Milk</th>\n",
       "      <th>Grocery</th>\n",
       "      <th>Frozen</th>\n",
       "      <th>Detergents_Paper</th>\n",
       "      <th>Delicatessen</th>\n",
       "    </tr>\n",
       "  </thead>\n",
       "  <tbody>\n",
       "    <tr>\n",
       "      <th>0</th>\n",
       "      <td>2</td>\n",
       "      <td>3</td>\n",
       "      <td>12669</td>\n",
       "      <td>9656</td>\n",
       "      <td>7561</td>\n",
       "      <td>214</td>\n",
       "      <td>2674</td>\n",
       "      <td>1338</td>\n",
       "    </tr>\n",
       "    <tr>\n",
       "      <th>1</th>\n",
       "      <td>2</td>\n",
       "      <td>3</td>\n",
       "      <td>7057</td>\n",
       "      <td>9810</td>\n",
       "      <td>9568</td>\n",
       "      <td>1762</td>\n",
       "      <td>3293</td>\n",
       "      <td>1776</td>\n",
       "    </tr>\n",
       "    <tr>\n",
       "      <th>2</th>\n",
       "      <td>2</td>\n",
       "      <td>3</td>\n",
       "      <td>6353</td>\n",
       "      <td>8808</td>\n",
       "      <td>7684</td>\n",
       "      <td>2405</td>\n",
       "      <td>3516</td>\n",
       "      <td>7844</td>\n",
       "    </tr>\n",
       "    <tr>\n",
       "      <th>3</th>\n",
       "      <td>1</td>\n",
       "      <td>3</td>\n",
       "      <td>13265</td>\n",
       "      <td>1196</td>\n",
       "      <td>4221</td>\n",
       "      <td>6404</td>\n",
       "      <td>507</td>\n",
       "      <td>1788</td>\n",
       "    </tr>\n",
       "    <tr>\n",
       "      <th>4</th>\n",
       "      <td>2</td>\n",
       "      <td>3</td>\n",
       "      <td>22615</td>\n",
       "      <td>5410</td>\n",
       "      <td>7198</td>\n",
       "      <td>3915</td>\n",
       "      <td>1777</td>\n",
       "      <td>5185</td>\n",
       "    </tr>\n",
       "  </tbody>\n",
       "</table>\n",
       "</div>"
      ],
      "text/plain": [
       "   Channel  Region  Fresh  Milk  Grocery  Frozen  Detergents_Paper  \\\n",
       "0        2       3  12669  9656     7561     214              2674   \n",
       "1        2       3   7057  9810     9568    1762              3293   \n",
       "2        2       3   6353  8808     7684    2405              3516   \n",
       "3        1       3  13265  1196     4221    6404               507   \n",
       "4        2       3  22615  5410     7198    3915              1777   \n",
       "\n",
       "   Delicatessen  \n",
       "0          1338  \n",
       "1          1776  \n",
       "2          7844  \n",
       "3          1788  \n",
       "4          5185  "
      ]
     },
     "execution_count": 2,
     "metadata": {},
     "output_type": "execute_result"
    }
   ],
   "source": [
    "df = pd.read_csv('customers.csv')\n",
    "df.head()"
   ]
  },
  {
   "cell_type": "markdown",
   "metadata": {},
   "source": [
    "## Exploratory Data Analysis"
   ]
  },
  {
   "cell_type": "markdown",
   "metadata": {},
   "source": [
    "### Cross merchandising\n",
    "\n",
    "Cross merchandising can be defined as follows ([Ref.1](https://en.wikipedia.org/wiki/Cross_merchandising)):\n",
    "\n",
    "> The retail practice of marketing or displaying products from different categories together, in order to generate additional revenue for the store, sometimes also known as add-on sales, incremental purchase or secondary product placement. Its main objective is to link different products that complement each other or can logically be used in association. This strategy also aims to improve overall customer experience by allowing them to pick up related goods at the same place instead of having to spend time searching for them.\n",
    "\n",
    "Consider two categories $A$ and $B$. We can use the dataset to find out the likelihood that customers buying products from $A$ will purchase some proportional quantity from $B$. For that we can use a regression model and set one of the categories in the dataset as target and the remaining ones as features. I will use the following models:\n",
    "- Linear Regression \n",
    "- Decision Tree\n",
    "\n",
    "I will then compare their `R2`."
   ]
  },
  {
   "cell_type": "code",
   "execution_count": 3,
   "metadata": {},
   "outputs": [],
   "source": [
    "from sklearn.model_selection import train_test_split\n",
    "from sklearn.model_selection import cross_val_score\n",
    "from sklearn.tree import DecisionTreeRegressor\n",
    "from sklearn.svm import SVR\n",
    "from sklearn.ensemble import RandomForestRegressor\n",
    "from sklearn.datasets import make_regression\n",
    "from sklearn import linear_model\n",
    "from sklearn.linear_model import LinearRegression\n",
    "from sklearn.metrics import mean_squared_error, r2_score"
   ]
  },
  {
   "cell_type": "code",
   "execution_count": 4,
   "metadata": {},
   "outputs": [
    {
     "name": "stdout",
     "output_type": "stream",
     "text": [
      "Categories: ['Fresh', 'Milk', 'Grocery', 'Frozen', 'Detergents_Paper', 'Delicatessen']\n"
     ]
    }
   ],
   "source": [
    "categories = df.columns.tolist()[2:]\n",
    "print('Categories:',categories)"
   ]
  },
  {
   "cell_type": "markdown",
   "metadata": {},
   "source": [
    "### Function to run the models and compare them\n",
    "\n",
    "The functions loops over the model types. It does a train/test split, calculates the score `R2`, determines the coefficients of the linear regression and the features' importance of the Decision Tree Regressor. The feature importance from Decision Trees is defined in the docs as:\n",
    "\n",
    "> The higher, the more important the feature. The importance of a feature is computed as the (normalized) total reduction of the criterion brought by that feature. It is also known as the Gini importance."
   ]
  },
  {
   "cell_type": "code",
   "execution_count": 39,
   "metadata": {},
   "outputs": [],
   "source": [
    "def cross_categ(category,test_size,models):\n",
    "    \n",
    "    categories = df.columns.tolist()[2:] # Skip columns Channel and Region\n",
    "    \n",
    "    X,y = df.drop(category,axis=1), df[category]\n",
    "    X_train, X_test, y_train, y_test = train_test_split(X, y, \n",
    "                                                    test_size=test_size, random_state=0)\n",
    "    for model in models:\n",
    "        regr = model().fit(X_train, y_train)\n",
    "        score = regr.score(X_test, y_test)\n",
    "        print (\"Score for category '{0}' using  {1} model': {2}\".format(category,model.__name__, score))\n",
    "        if model == LinearRegression:\n",
    "            print ([i for i in categories if i != category])\n",
    "            print('Coefficients: \\n', [round(x,3) for x in regr.coef_][2:])\n",
    "            print('Intercept is:',regr.intercept_)\n",
    "            print('Coefficients:',list(zip([i for i in categories if i != category],[round(x,3) for x in regr.coef_][2:])))\n",
    "            y_pred = regr.predict(X_test)\n",
    "        elif model == DecisionTreeRegressor:\n",
    "            print('Feature importances:',list(zip([i for i in categories if i != category],[round(x,3) for x in regr.feature_importances_])))\n",
    "    return "
   ]
  },
  {
   "cell_type": "code",
   "execution_count": 40,
   "metadata": {},
   "outputs": [
    {
     "name": "stdout",
     "output_type": "stream",
     "text": [
      "Score for category 'Grocery' using  LinearRegression model': 0.8651525188115992\n",
      "['Fresh', 'Milk', 'Frozen', 'Detergents_Paper', 'Delicatessen']\n",
      "Coefficients: \n",
      " [0.023, 0.188, -0.02, 1.651, 0.279]\n",
      "Intercept is: 818.3234403744482\n",
      "Coefficients: [('Fresh', 0.023), ('Milk', 0.188), ('Frozen', -0.02), ('Detergents_Paper', 1.651), ('Delicatessen', 0.279)]\n",
      "Score for category 'Grocery' using  DecisionTreeRegressor model': 0.688660653158595\n",
      "Feature importances: [('Fresh', 0.0), ('Milk', 0.004), ('Frozen', 0.038), ('Detergents_Paper', 0.064), ('Delicatessen', 0.012)]\n"
     ]
    }
   ],
   "source": [
    "models = [LinearRegression, DecisionTreeRegressor]\n",
    "cross_categ('Grocery',0.25,models)"
   ]
  },
  {
   "cell_type": "code",
   "execution_count": null,
   "metadata": {},
   "outputs": [],
   "source": []
  }
 ],
 "metadata": {
  "kernelspec": {
   "display_name": "Python 3",
   "language": "python",
   "name": "python3"
  },
  "language_info": {
   "codemirror_mode": {
    "name": "ipython",
    "version": 3
   },
   "file_extension": ".py",
   "mimetype": "text/x-python",
   "name": "python",
   "nbconvert_exporter": "python",
   "pygments_lexer": "ipython3",
   "version": "3.6.4"
  }
 },
 "nbformat": 4,
 "nbformat_minor": 1
}

